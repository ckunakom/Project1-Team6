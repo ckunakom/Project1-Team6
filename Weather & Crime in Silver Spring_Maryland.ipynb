{
 "cells": [
  {
   "cell_type": "markdown",
   "metadata": {},
   "source": [
    "Hypothesis: We believe there's a correlation between temperature and the incidence of crime in Silver Spring, Maryland\n"
   ]
  },
  {
   "cell_type": "code",
   "execution_count": null,
   "metadata": {},
   "outputs": [],
   "source": [
    "# Dependencies\n",
    "import numpy as np\n",
    "import pandas as pd\n",
    "import matplotlib.pyplot as plt\n",
    "import requests\n",
    "import datetime"
   ]
  },
  {
   "cell_type": "code",
   "execution_count": null,
   "metadata": {},
   "outputs": [],
   "source": [
    "# Save file path to variable\n",
    "crimeMD_path = \"Crime_MD.csv\"\n",
    "# silverspring_path = \"silver_spring_climate.csv\"\n",
    "\n",
    "# Read with Pandas\n",
    "crime_df = pd.read_csv(crimeMD_path, low_memory=False)\n",
    "# silverspring_temp_df = pd.read_csv(silverspring_path)\n"
   ]
  },
  {
   "cell_type": "code",
   "execution_count": null,
   "metadata": {},
   "outputs": [],
   "source": [
    "# Pulling out only the columns of interest\n",
    "main_crime_df = crime_df[['Crime Name1', 'Crime Name2', 'Crime Name3', 'City', 'Start_Date_Time']]"
   ]
  },
  {
   "cell_type": "code",
   "execution_count": null,
   "metadata": {},
   "outputs": [],
   "source": [
    "# Remove crimeless data and changing columns name \n",
    "main_crime_df = main_crime_df.loc[main_crime_df['Crime Name1'] != 'Not a Crime']\n",
    "clean_crime_df = main_crime_df.rename(columns={'Crime Name1': 'Crime Main Category',\n",
    "                                             'Crime Name2': 'Crime Sub Category',\n",
    "                                             'Start_Date_Time': 'Date & Time of Crime'})\n",
    "\n",
    "clean_crime_df['Date & Time of Crime']= pd.to_datetime(clean_crime_df['Date & Time of Crime'])\n",
    "clean_crime_df['City'].value_counts()\n",
    "silverspring_crime_df = clean_crime_df.loc[clean_crime_df['City'] == 'SILVER SPRING']\n",
    "silverspring_crime_df"
   ]
  },
  {
   "cell_type": "code",
   "execution_count": null,
   "metadata": {},
   "outputs": [],
   "source": [
    "# Figure out the timeline of interest\n",
    "data_first_date = silverspring_crime_df['Date & Time of Crime'].min()\n",
    "data_last_date = silverspring_crime_df['Date & Time of Crime'].max()\n",
    "\n",
    "print(data_first_date)\n",
    "print(data_last_date)\n",
    "\n",
    "# Throw away 2016 and 2020 \n",
    "silverspring_clean_df = silverspring_crime_df.loc[(silverspring_crime_df['Date & Time of Crime'] > '2016-12-31 23:59:59') & (silverspring_crime_df['Date & Time of Crime'] < '2020-01-01 00:00:00')]"
   ]
  },
  {
   "cell_type": "code",
   "execution_count": null,
   "metadata": {
    "scrolled": true
   },
   "outputs": [],
   "source": [
    "silverspring_clean_df"
   ]
  },
  {
   "cell_type": "code",
   "execution_count": null,
   "metadata": {},
   "outputs": [],
   "source": [
    "# Extract year from string format date\n",
    "silverspring_clean_df['Year'] = pd.DatetimeIndex(silverspring_clean_df['Date & Time of Crime']).year\n",
    "silverspring_clean_df['Month'] = pd.DatetimeIndex(silverspring_clean_df['Date & Time of Crime']).month\n",
    "\n",
    "silverspring_clean_df.head(3)"
   ]
  },
  {
   "cell_type": "code",
   "execution_count": null,
   "metadata": {},
   "outputs": [],
   "source": []
  },
  {
   "cell_type": "code",
   "execution_count": null,
   "metadata": {},
   "outputs": [],
   "source": []
  },
  {
   "cell_type": "code",
   "execution_count": null,
   "metadata": {},
   "outputs": [],
   "source": [
    "# Dan's code starts here - Property/Other"
   ]
  },
  {
   "cell_type": "code",
   "execution_count": null,
   "metadata": {},
   "outputs": [],
   "source": [
    "# Dan's code ends here"
   ]
  },
  {
   "cell_type": "code",
   "execution_count": null,
   "metadata": {},
   "outputs": [],
   "source": [
    "# Cynthia's code starts here - Person"
   ]
  },
  {
   "cell_type": "markdown",
   "metadata": {},
   "source": [
    "Sub-Hypothesis: We believe that as temperature decreases to a certain point during the winter, the crime against person will also decreases. This is because people are less likely to come out during the winter time when it gets too cold, making crime occur less.\n"
   ]
  },
  {
   "cell_type": "code",
   "execution_count": null,
   "metadata": {},
   "outputs": [],
   "source": [
    "# Running this doesn't work and mess up the whole dataframe....\n",
    "# clean_crime_df = clean_crime_df['Year'].apply(str)\n",
    "# clean_crime_df = clean_crime_df['Month'].apply(str)"
   ]
  },
  {
   "cell_type": "code",
   "execution_count": null,
   "metadata": {},
   "outputs": [],
   "source": [
    "# Create Crime Against Person df\n",
    "person_crime_df = clean_crime_df.loc[(clean_crime_df['Crime Main Category'] == 'Crime Against Person'), :]\n",
    "person_crime_df['City'].value_counts()"
   ]
  },
  {
   "cell_type": "code",
   "execution_count": null,
   "metadata": {},
   "outputs": [],
   "source": [
    "# Create different df for different year (2017-2019)\n",
    "person_crime_2017df = person_crime_df.loc[person_crime_df['Year'] == 2017]\n",
    "person_crime_2018df = person_crime_df.loc[person_crime_df['Year'] == 2018]\n",
    "person_crime_2019df = person_crime_df.loc[person_crime_df['Year'] == 2019]"
   ]
  },
  {
   "cell_type": "code",
   "execution_count": null,
   "metadata": {},
   "outputs": [],
   "source": [
    "# Using Groupby\n",
    "crimemonthgroup = person_crime_df.groupby('Month')\n",
    "personcrime_count_month = crimemonthgroup['Month'].count()\n",
    "personcrime_count_month\n",
    "df = personcrime_count_month\n",
    "# personcrime_count_month.plot(kind='scatter', title='Numbers of Crimes Against Person for each Month from 2017-2020')\n",
    "\n",
    "## To do scatter, need to get the count of each month, the # of crime\n",
    "### x = month\n",
    "### y = count\n",
    "##### DO this for all the years"
   ]
  },
  {
   "cell_type": "code",
   "execution_count": null,
   "metadata": {},
   "outputs": [],
   "source": [
    "# Question: Do I need to sort the DF before plotting it to get the month in order?\n",
    "\n",
    "# Number of crime in each month for all three years\n",
    "crimect = person_crime_df['Month'].value_counts()\n",
    "crimectplot = crimect.plot(kind='bar', title='Numbers of Crimes Against Person for each Month from 2017-2020')\n",
    "plt.xlabel('Month')\n",
    "plt.ylabel('Number of Crimes')"
   ]
  },
  {
   "cell_type": "code",
   "execution_count": null,
   "metadata": {},
   "outputs": [],
   "source": [
    "# Number of crime in each month for 2017\n",
    "crimect_2017 = person_crime_2017df['Month'].value_counts()\n",
    "crimect2017plot = crimect_2017.plot(kind='bar', title='Numbers of Crimes Against Person for each Month in 2017')\n",
    "plt.xlabel('Month')\n",
    "plt.ylabel('Number of Crimes')"
   ]
  },
  {
   "cell_type": "code",
   "execution_count": null,
   "metadata": {},
   "outputs": [],
   "source": [
    "# Plotting incidence of crime VS months\n",
    "# def personcrime(df, x):\n",
    "    # Bar plot"
   ]
  },
  {
   "cell_type": "code",
   "execution_count": null,
   "metadata": {},
   "outputs": [],
   "source": []
  },
  {
   "cell_type": "code",
   "execution_count": null,
   "metadata": {},
   "outputs": [],
   "source": [
    "# Number of crimes in each city\n",
    "# person_crime_city = person_crime_df.groupby('City')['City'].count()\n",
    "# person_crime_city\n",
    "\n",
    "# person_crime_city.plot(kind='bar', title='Numbers of Crime Against Person in each City', figsize=(8,8))\n",
    "# plt.xlabel('City')\n",
    "# plt.ylabel(\"Number of Cases\")\n",
    "\n",
    "# plt.xlim(-0.75, len(person_crime_city))\n",
    "# plt.ylim(0, max(person_crime_city)+100)\n",
    "\n",
    "# plt.tight_layout()\n",
    "# plt.show()\n",
    "\n",
    "# From here, maybe do a location"
   ]
  },
  {
   "cell_type": "code",
   "execution_count": null,
   "metadata": {
    "scrolled": true
   },
   "outputs": [],
   "source": [
    "# # Look at sub category of crime -- ain't going there -_-\n",
    "# person_crime_stat = person_crime_df.groupby('Crime Sub Category')['Crime Sub Category'].count()\n",
    "# person_crime_stat"
   ]
  },
  {
   "cell_type": "code",
   "execution_count": null,
   "metadata": {},
   "outputs": [],
   "source": [
    "# person_crime_stat.plot(kind='bar', title='Count of Different Types of Crime Against Person')\n",
    "# plt.xlabel('Types of Crime Against Person')\n",
    "# plt.ylabel(\"Number of Cases\")\n",
    "\n",
    "# plt.xlim(-0.75, len(person_crime_stat))\n",
    "# plt.ylim(0, max(person_crime_stat)+100)\n",
    "\n",
    "# plt.show()"
   ]
  },
  {
   "cell_type": "code",
   "execution_count": null,
   "metadata": {},
   "outputs": [],
   "source": []
  },
  {
   "cell_type": "code",
   "execution_count": null,
   "metadata": {},
   "outputs": [],
   "source": [
    "# Cynthia's code ends here"
   ]
  },
  {
   "cell_type": "code",
   "execution_count": null,
   "metadata": {},
   "outputs": [],
   "source": [
    "# Rose's code starts here - Society"
   ]
  },
  {
   "cell_type": "code",
   "execution_count": null,
   "metadata": {},
   "outputs": [],
   "source": [
    "# Rose's code ends here"
   ]
  },
  {
   "cell_type": "code",
   "execution_count": null,
   "metadata": {},
   "outputs": [],
   "source": [
    "# Paul's code starts here - API!!!"
   ]
  },
  {
   "cell_type": "code",
   "execution_count": null,
   "metadata": {},
   "outputs": [],
   "source": [
    "# Paul's code ends here"
   ]
  }
 ],
 "metadata": {
  "kernelspec": {
   "display_name": "Python 3",
   "language": "python",
   "name": "python3"
  },
  "language_info": {
   "codemirror_mode": {
    "name": "ipython",
    "version": 3
   },
   "file_extension": ".py",
   "mimetype": "text/x-python",
   "name": "python",
   "nbconvert_exporter": "python",
   "pygments_lexer": "ipython3",
   "version": "3.6.10"
  }
 },
 "nbformat": 4,
 "nbformat_minor": 4
}
