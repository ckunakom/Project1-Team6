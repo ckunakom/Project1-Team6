{
 "cells": [
  {
   "cell_type": "markdown",
   "metadata": {},
   "source": [
    "Hypothesis: We believe there's a correlation between temperature and the incidence of crime in Silver Spring, Maryland\n"
   ]
  },
  {
   "cell_type": "code",
   "execution_count": null,
   "metadata": {},
   "outputs": [],
   "source": [
    "# Dependencies\n",
    "import numpy as np\n",
    "import pandas as pd\n",
    "import matplotlib.pyplot as plt\n",
    "import requests\n",
    "import datetime"
   ]
  },
  {
   "cell_type": "code",
   "execution_count": null,
   "metadata": {},
   "outputs": [],
   "source": [
    "# Save file path to variable\n",
    "crimeMD_path = \"Crime_MD.csv\"\n",
    "# silverspring_path = \"silver_spring_climate.csv\"\n",
    "\n",
    "# Read with Pandas\n",
    "crime_df = pd.read_csv(crimeMD_path, low_memory=False)\n",
    "# silverspring_temp_df = pd.read_csv(silverspring_path)\n"
   ]
  },
  {
   "cell_type": "code",
   "execution_count": null,
   "metadata": {},
   "outputs": [],
   "source": [
    "# Save file path to variable\n",
    "climateMD_path = \"silver_spring_climate.csv\"\n",
    "\n",
    "# Read with Pandas\n",
    "climate_df = pd.read_csv(climateMD_path, low_memory=False)"
   ]
  },
  {
   "cell_type": "code",
   "execution_count": null,
   "metadata": {},
   "outputs": [],
   "source": [
    "# Formatting the month for merge later\n",
    "climate_df.columns = ['MonthName','Temp']\n",
    "df = pd.to_datetime(climate_df['MonthName'], format='%B').dt.month\n",
    "climate_df['Month'] = df\n",
    "climate_df"
   ]
  },
  {
   "cell_type": "code",
   "execution_count": null,
   "metadata": {},
   "outputs": [],
   "source": [
    "# Pulling out only the columns of interest\n",
    "main_crime_df = crime_df[['Crime Name1', 'Crime Name2', 'Crime Name3', 'City', 'Start_Date_Time']]"
   ]
  },
  {
   "cell_type": "code",
   "execution_count": null,
   "metadata": {},
   "outputs": [],
   "source": [
    "# Remove crimeless data and changing columns name \n",
    "main_crime_df = main_crime_df.loc[main_crime_df['Crime Name1'] != 'Not a Crime']\n",
    "clean_crime_df = main_crime_df.rename(columns={'Crime Name1': 'Crime Main Category',\n",
    "                                             'Crime Name2': 'Crime Sub Category',\n",
    "                                             'Start_Date_Time': 'Date & Time of Crime'})\n",
    "\n",
    "clean_crime_df['Date & Time of Crime']= pd.to_datetime(clean_crime_df['Date & Time of Crime'])\n",
    "clean_crime_df['City'].value_counts()\n",
    "silverspring_crime_df = clean_crime_df.loc[clean_crime_df['City'] == 'SILVER SPRING']\n",
    "silverspring_crime_df"
   ]
  },
  {
   "cell_type": "code",
   "execution_count": null,
   "metadata": {},
   "outputs": [],
   "source": [
    "# Figure out the timeline of interest\n",
    "data_first_date = silverspring_crime_df['Date & Time of Crime'].min()\n",
    "data_last_date = silverspring_crime_df['Date & Time of Crime'].max()\n",
    "\n",
    "print(data_first_date)\n",
    "print(data_last_date)\n",
    "\n",
    "# Throw away 2016 and 2020 \n",
    "silverspring_clean_df = silverspring_crime_df.loc[(silverspring_crime_df['Date & Time of Crime'] > '2016-12-31 23:59:59') & (silverspring_crime_df['Date & Time of Crime'] < '2020-01-01 00:00:00')]"
   ]
  },
  {
   "cell_type": "code",
   "execution_count": null,
   "metadata": {
    "scrolled": true
   },
   "outputs": [],
   "source": [
    "silverspring_clean_df"
   ]
  },
  {
   "cell_type": "code",
   "execution_count": null,
   "metadata": {},
   "outputs": [],
   "source": [
    "# Extract year from string format date\n",
    "silverspring_clean_df['Year'] = pd.DatetimeIndex(silverspring_clean_df['Date & Time of Crime']).year\n",
    "silverspring_clean_df['Month'] = pd.DatetimeIndex(silverspring_clean_df['Date & Time of Crime']).month\n",
    "\n",
    "silverspring_clean_df.head(3)"
   ]
  },
  {
   "cell_type": "code",
   "execution_count": null,
   "metadata": {},
   "outputs": [],
   "source": [
    "combined_df = pd.merge(silverspring_clean_df, climate_df, on='Month')\n",
    "combined_df\n"
   ]
  },
  {
   "cell_type": "code",
   "execution_count": null,
   "metadata": {},
   "outputs": [],
   "source": []
  },
  {
   "cell_type": "code",
   "execution_count": null,
   "metadata": {},
   "outputs": [],
   "source": [
    "# Dan's code starts here - Property/Other"
   ]
  },
  {
   "cell_type": "code",
   "execution_count": null,
   "metadata": {},
   "outputs": [],
   "source": [
    "# Separate Crime Against Property from other crimes\n",
    "sspring_property = silverspring_clean_df.loc[(silverspring_clean_df['Crime Main Category'] == 'Crime Against Property')]\n",
    "sspring_property"
   ]
  },
  {
   "cell_type": "code",
   "execution_count": null,
   "metadata": {},
   "outputs": [],
   "source": [
    "# Separate Property Crimes by Year\n",
    "propcrime_2017 = sspring_property.loc[(sspring_property['Year'] == 2017)]\n",
    "propcrime_2018 = sspring_property.loc[(sspring_property['Year'] == 2018)]\n",
    "propcrime_2019 = sspring_property.loc[(sspring_property['Year'] == 2019)]"
   ]
  },
  {
   "cell_type": "code",
   "execution_count": null,
   "metadata": {},
   "outputs": [],
   "source": [
    "pc2017_x_axis = sorted(propcrime_2017['Month'])\n",
    "pc2017_y_axis = propcrime_2017['Month'].value_counts()\n",
    "pd.DataFrame(pc2017_y_axis) "
   ]
  },
  {
   "cell_type": "code",
   "execution_count": null,
   "metadata": {},
   "outputs": [],
   "source": [
    "# Dan's code ends here"
   ]
  },
  {
   "cell_type": "code",
   "execution_count": null,
   "metadata": {},
   "outputs": [],
   "source": [
    "# Cynthia's code starts here - Person"
   ]
  },
  {
   "cell_type": "markdown",
   "metadata": {},
   "source": [
    "Sub-Hypothesis: We believe that as temperature decreases to a certain point during the winter, the crime against person will also decreases. This is because people are less likely to come out during the winter time when it gets too cold, making crime occur less.\n"
   ]
  },
  {
   "cell_type": "code",
   "execution_count": null,
   "metadata": {},
   "outputs": [],
   "source": [
    "# Create Crime Against Person df\n",
    "person_crime_df = silverspring_clean_df.loc[(silverspring_clean_df['Crime Main Category'] == 'Crime Against Person'), :]\n",
    "person_crime_df"
   ]
  },
  {
   "cell_type": "code",
   "execution_count": null,
   "metadata": {},
   "outputs": [],
   "source": [
    "# Using Groupby\n",
    "personmonthgroup = person_crime_df.groupby('Month')\n",
    "personcrime_count_month = personmonthgroup['Month'].count()\n",
    "personcrime_count_month\n",
    "\n",
    "personcrime_df = pd.DataFrame({'Number of Crime Incidence':personcrime_count_month})\n",
    "months = ['January', 'February', 'March', 'April', 'May', 'June', 'July', 'August', 'September', 'October', 'November', 'December']\n",
    "\n",
    "\n",
    "personcrime_index_df = personcrime_df.reset_index(drop=True)\n",
    "personcrime_index_df['Month'] = months\n",
    "personcrime_index_df = personcrime_index_df[['Month','Number of Crime Incidence']]\n",
    "personcrime_index_df"
   ]
  },
  {
   "cell_type": "code",
   "execution_count": null,
   "metadata": {},
   "outputs": [],
   "source": [
    "# Visualize the incidence of Crime Against Person for each month from 2017-2020\n",
    "x_all = personcrime_index_df['Month']\n",
    "y_all = personcrime_index_df['Number of Crime Incidence']\n",
    "\n",
    "plt.scatter(x_all, y_all,)\n",
    "plt.xticks(rotation=45)\n",
    "\n",
    "plt.xlabel('Month')\n",
    "plt.ylabel('Number of Crime Incidence')\n",
    "plt.title('Numbers of Crimes Against Person for each Month from 2017-2020')\n",
    "\n",
    "plt.show()"
   ]
  },
  {
   "cell_type": "code",
   "execution_count": null,
   "metadata": {},
   "outputs": [],
   "source": [
    "# Create different df for different year (2017-2019)\n",
    "person_crime_2017df = person_crime_df.loc[person_crime_df['Year'] == 2017]\n",
    "person_crime_2018df = person_crime_df.loc[person_crime_df['Year'] == 2018]\n",
    "person_crime_2019df = person_crime_df.loc[person_crime_df['Year'] == 2019]"
   ]
  },
  {
   "cell_type": "code",
   "execution_count": null,
   "metadata": {},
   "outputs": [],
   "source": [
    "# Number of crime in each month for 2017\n",
    "monthgroup = person_crime_2017df.groupby('Month')\n",
    "personcrime_count_month = personmonthgroup['Month'].count()\n",
    "personcrime_count_month\n",
    "\n",
    "personcrime_df = pd.DataFrame({'Number of Crime Incidence':personcrime_count_month})\n",
    "\n",
    "personcrime_index_df = personcrime_df.reset_index(drop=True)\n",
    "personcrime_index_df['Month'] = months\n",
    "personcrime_index_df = personcrime_index_df[['Month','Number of Crime Incidence']]\n",
    "personcrime_index_df"
   ]
  },
  {
   "cell_type": "code",
   "execution_count": null,
   "metadata": {},
   "outputs": [],
   "source": [
    "# Number of crime in each month for 2017\n",
    "crimect_2017 = person_crime_2017df['Month'].value_counts()\n",
    "crimect2017plot = crimect_2017.plot(kind='bar', title='Numbers of Crimes Against Person for each Month in 2017')\n",
    "plt.xlabel('Month')\n",
    "plt.ylabel('Number of Crimes')"
   ]
  },
  {
   "cell_type": "code",
   "execution_count": null,
   "metadata": {},
   "outputs": [],
   "source": []
  },
  {
   "cell_type": "code",
   "execution_count": null,
   "metadata": {
    "scrolled": true
   },
   "outputs": [],
   "source": []
  },
  {
   "cell_type": "code",
   "execution_count": null,
   "metadata": {},
   "outputs": [],
   "source": []
  },
  {
   "cell_type": "code",
   "execution_count": null,
   "metadata": {},
   "outputs": [],
   "source": []
  },
  {
   "cell_type": "code",
   "execution_count": null,
   "metadata": {},
   "outputs": [],
   "source": [
    "# Cynthia's code ends here"
   ]
  },
  {
   "cell_type": "code",
   "execution_count": null,
   "metadata": {},
   "outputs": [],
   "source": [
    "# Rose's code starts here - Society "
   ]
  },
  {
   "cell_type": "code",
   "execution_count": null,
   "metadata": {},
   "outputs": [],
   "source": [
    "# Create Crime Against Society df\n",
    "society_crime_df = silverspring_clean_df.loc[(silverspring_clean_df['Crime Main Category'] == 'Crime Against Society'), :]\n",
    "society_crime_df"
   ]
  },
  {
   "cell_type": "code",
   "execution_count": null,
   "metadata": {},
   "outputs": [],
   "source": [
    "# Using Groupby\n",
    "societymonthgroup = society_crime_df.groupby('Month')\n",
    "societycrime_count_month = societymonthgroup['Month'].count()\n",
    "societycrime_count_month\n",
    "\n",
    "# Turn count of crime into a dataframe\n",
    "societycrime_df = pd.DataFrame({'Number of Crime Incidence':societycrime_count_month})\n",
    "\n",
    "# Drop the index to get month column, add month name \n",
    "months = ['January', 'February', 'March', 'April', 'May', 'June', 'July', 'August', 'September', 'October', 'November', 'December']\n",
    "societycrime_index_df = societycrime_df.reset_index(drop=True)\n",
    "societycrime_index_df['Month'] = months\n",
    "societycrime_index_df = societycrime_index_df[['Month','Number of Crime Incidence']]\n",
    "societycrime_index_df"
   ]
  },
  {
   "cell_type": "code",
   "execution_count": null,
   "metadata": {},
   "outputs": [],
   "source": [
    "x_all = societycrime_index_df['Month']\n",
    "y_all = societycrime_index_df['Number of Crime Incidence']\n",
    "\n",
    "plt.plot(x_all, y_all, marker='o')\n",
    "plt.xticks(rotation=45)\n",
    "\n",
    "plt.xlabel('Month')\n",
    "plt.ylabel('Number of Crime Incidence')\n",
    "plt.title('Numbers of Crimes Against Society for each Month from 2017-2020')\n",
    "\n",
    "plt.show()"
   ]
  },
  {
   "cell_type": "code",
   "execution_count": null,
   "metadata": {},
   "outputs": [],
   "source": [
    "society_crime_df"
   ]
  },
  {
   "cell_type": "code",
   "execution_count": null,
   "metadata": {},
   "outputs": [],
   "source": [
    "# Create different df for different year (2017-2019)\n",
    "\n",
    "society_crime_2017df = society_crime_df.loc[society_crime_df['Year'] == 2017]\n",
    "society_crime_2018df = society_crime_df.loc[society_crime_df['Year'] == 2018]\n",
    "society_crime_2019df = society_crime_df.loc[society_crime_df['Year'] == 2019]"
   ]
  },
  {
   "cell_type": "code",
   "execution_count": null,
   "metadata": {},
   "outputs": [],
   "source": [
    "# Number of crime in each month for 2017\n",
    "\n",
    "society_month2017 = society_crime_2017df.groupby('Month')\n",
    "society_crime_ct_2017 = society_month2017['Month'].count()\n",
    "\n",
    "# Turn count of crime into a dataframe\n",
    "society_crime_ct_2017df = pd.DataFrame({'Number of Crime Incidence':society_crime_ct_2017})\n",
    "\n",
    "# Drop the index to get month column, add month name \n",
    "society_crime_ct_2017df = society_crime_ct_2017df.reset_index(drop=True)\n",
    "society_crime_ct_2017df['Month'] = months\n",
    "society_crime_ct_2017df = society_crime_ct_2017df[['Month','Number of Crime Incidence']]\n",
    "society_crime_ct_2017df"
   ]
  },
  {
   "cell_type": "code",
   "execution_count": null,
   "metadata": {},
   "outputs": [],
   "source": [
    "# Visualize the incidence of Crime Against Society for each month from 2017\n",
    "x_2017 = society_crime_ct_2017df['Month']\n",
    "y_2017 = society_crime_ct_2017df['Number of Crime Incidence']\n",
    "\n",
    "handle17, = plt.plot(x_2017, y_2017, marker='x')\n",
    "plt.xticks(rotation=45)\n",
    "\n",
    "plt.xlabel('Month')\n",
    "plt.ylabel('Number of Crime Incidence')\n",
    "plt.title('Numbers of Crimes Against Society for each Month in 2017')\n",
    "\n",
    "plt.show()"
   ]
  },
  {
   "cell_type": "code",
   "execution_count": null,
   "metadata": {},
   "outputs": [],
   "source": [
    "# Number of crime in each month for 2018\n",
    "\n",
    "society_month2018 = society_crime_2018df.groupby('Month')\n",
    "society_crime_ct_2018 = society_month2018['Month'].count()\n",
    "\n",
    "# Turn count of crime into a dataframe\n",
    "society_crime_ct_2018df = pd.DataFrame({'Number of Crime Incidence':society_crime_ct_2018})\n",
    "\n",
    "# Drop the index to get month column, add month name \n",
    "society_crime_ct_2018df = society_crime_ct_2018df.reset_index(drop=True)\n",
    "society_crime_ct_2018df['Month'] = months\n",
    "society_crime_ct_2018df = society_crime_ct_2018df[['Month','Number of Crime Incidence']]\n",
    "society_crime_ct_2018df"
   ]
  },
  {
   "cell_type": "code",
   "execution_count": null,
   "metadata": {},
   "outputs": [],
   "source": [
    "# Visualize the incidence of Crime Against Society for each month from 2018\n",
    "x_2018 = society_crime_ct_2018df['Month']\n",
    "y_2018 = society_crime_ct_2018df['Number of Crime Incidence']\n",
    "\n",
    "handle18, = plt.plot(x_2018, y_2018, marker='x')\n",
    "plt.xticks(rotation=45)\n",
    "\n",
    "plt.xlabel('Month')\n",
    "plt.ylabel('Number of Crime Incidence')\n",
    "plt.title('Numbers of Crimes Against Society for each Month in 2018')\n",
    "\n",
    "plt.show()\n"
   ]
  },
  {
   "cell_type": "code",
   "execution_count": null,
   "metadata": {},
   "outputs": [],
   "source": [
    "# Number of crime in each month for 2019\n",
    "\n",
    "society_month2019 = society_crime_2019df.groupby('Month')\n",
    "society_crime_ct_2019 = society_month2019['Month'].count()\n",
    "\n",
    "# Turn count of crime into a dataframe\n",
    "society_crime_ct_2019df = pd.DataFrame({'Number of Crime Incidence':society_crime_ct_2019})\n",
    "\n",
    "# Drop the index to get month column, add month name \n",
    "society_crime_ct_2019df = society_crime_ct_2019df.reset_index(drop=True)\n",
    "society_crime_ct_2019df['Month'] = months\n",
    "society_crime_ct_2019df = society_crime_ct_2019df[['Month','Number of Crime Incidence']]\n",
    "society_crime_ct_2019df"
   ]
  },
  {
   "cell_type": "code",
   "execution_count": null,
   "metadata": {},
   "outputs": [],
   "source": [
    "# Visualize the incidence of Crime Against Society for each month from 2019\n",
    "x_2019 = society_crime_ct_2019df['Month']\n",
    "y_2019 = society_crime_ct_2019df['Number of Crime Incidence']\n",
    "\n",
    "handle19, = plt.plot(x_2019, y_2019, marker='x')\n",
    "plt.xticks(rotation=45)\n",
    "\n",
    "plt.xlabel('Month')\n",
    "plt.ylabel('Number of Crime Incidence')\n",
    "plt.title('Numbers of Crimes Against Society for each Month in 2019')\n",
    "\n",
    "plt.show()"
   ]
  },
  {
   "cell_type": "code",
   "execution_count": null,
   "metadata": {},
   "outputs": [],
   "source": [
    "#Generate a facet plot of all 3 figures \n",
    "\n",
    "# Graph from 2017\n",
    "handle17, = plt.plot(x_2017, y_2017, marker='x', label='2017')\n",
    "# Graph from 2018\n",
    "handle18, = plt.plot(x_2018, y_2018, marker='x', label='2018')\n",
    "# Graph from 2019\n",
    "handle19, = plt.plot(x_2019, y_2019, marker='x', label='2019')\n",
    "\n",
    "plt.xticks(rotation=45)\n",
    "\n",
    "plt.xlabel('Month')\n",
    "plt.ylabel('Number of Crime Incidence')\n",
    "plt.title('Numbers of Crimes Against Society for each Month in during 2017-2019', fontsize=12, fontweight='bold')\n",
    "\n",
    "plt.legend(loc=\"best\")\n",
    "plt.show()"
   ]
  },
  {
   "cell_type": "code",
   "execution_count": null,
   "metadata": {},
   "outputs": [],
   "source": []
  },
  {
   "cell_type": "code",
   "execution_count": null,
   "metadata": {},
   "outputs": [],
   "source": [
    "# New Dataframe for number of crimes in each month, indexed by year & month --- don't know how to make useful plot out of this\n",
    "societymonthyeargroup = society_crime_df.groupby(['Year','Month'])\n",
    "societycrime_count_mmyy = societymonthyeargroup['Month'].count()\n",
    "\n",
    "societycrime_count_mmyy_df = pd.DataFrame({'Number of Crime Incidence':societycrime_count_mmyy})\n",
    "monthsforeachyear = ['January', 'February', 'March', 'April', 'May', 'June', 'July', 'August', 'September', 'October', 'November', 'December', 'January', 'February', 'March', 'April', 'May', 'June', 'July', 'August', 'September', 'October', 'November', 'December', 'January', 'February', 'March', 'April', 'May', 'June', 'July', 'August', 'September', 'October', 'November', 'December']\n",
    "\n",
    "societycrime_count_mmyy_df['Month'] = monthsforeachyear\n",
    "societycrime_count_mmyy_df = societycrime_count_mmyy_df[['Month','Number of Crime Incidence']]\n",
    "societycrime_count_mmyy_df"
   ]
  },
  {
   "cell_type": "code",
   "execution_count": null,
   "metadata": {},
   "outputs": [],
   "source": []
  },
  {
   "cell_type": "code",
   "execution_count": null,
   "metadata": {},
   "outputs": [],
   "source": [
    "# Rose's code ends here"
   ]
  },
  {
   "cell_type": "code",
   "execution_count": null,
   "metadata": {},
   "outputs": [],
   "source": [
    "# Paul's code starts here - API!!!"
   ]
  },
  {
   "cell_type": "code",
   "execution_count": null,
   "metadata": {},
   "outputs": [],
   "source": [
    "# Paul's code ends here"
   ]
  }
 ],
 "metadata": {
  "kernelspec": {
   "display_name": "Python 3",
   "language": "python",
   "name": "python3"
  },
  "language_info": {
   "codemirror_mode": {
    "name": "ipython",
    "version": 3
   },
   "file_extension": ".py",
   "mimetype": "text/x-python",
   "name": "python",
   "nbconvert_exporter": "python",
   "pygments_lexer": "ipython3",
   "version": "3.6.10"
  }
 },
 "nbformat": 4,
 "nbformat_minor": 4
}
