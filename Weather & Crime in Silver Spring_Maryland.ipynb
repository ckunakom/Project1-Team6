{
 "cells": [
  {
   "cell_type": "markdown",
   "metadata": {},
   "source": [
    "Hypothesis: We believe there's a correlation between temperature and the incidence of crime in Silver Spring, Maryland\n"
   ]
  },
  {
   "cell_type": "code",
   "execution_count": null,
   "metadata": {},
   "outputs": [],
   "source": [
    "# Dependencies\n",
    "import numpy as np\n",
    "import pandas as pd\n",
    "import matplotlib.pyplot as plt\n",
    "from scipy.stats import linregress\n",
    "import datetime"
   ]
  },
  {
   "cell_type": "code",
   "execution_count": null,
   "metadata": {},
   "outputs": [],
   "source": [
    "# Save file path to variable\n",
    "crimeMD_path = \"Crime_MD.csv\"\n",
    "# silverspring_path = \"silver_spring_climate.csv\"\n",
    "\n",
    "# Read with Pandas\n",
    "crime_df = pd.read_csv(crimeMD_path, low_memory=False)\n",
    "# silverspring_temp_df = pd.read_csv(silverspring_path)\n"
   ]
  },
  {
   "cell_type": "code",
   "execution_count": null,
   "metadata": {},
   "outputs": [],
   "source": [
    "# Save file path to variable\n",
    "climateMD_path = \"silver_spring_climate.csv\"\n",
    "\n",
    "# Read with Pandas\n",
    "climate_df = pd.read_csv(climateMD_path, low_memory=False)\n",
    "climate_df"
   ]
  },
  {
   "cell_type": "code",
   "execution_count": null,
   "metadata": {},
   "outputs": [],
   "source": [
    "# Formatting the month for merge later\n",
    "climate_df.columns = ['MonthName','Temp']\n",
    "df = pd.to_datetime(climate_df['MonthName'], format='%B').dt.month\n",
    "climate_df['Month'] = df\n",
    "climate_df"
   ]
  },
  {
   "cell_type": "code",
   "execution_count": null,
   "metadata": {},
   "outputs": [],
   "source": [
    "# Pulling out only the columns of interest\n",
    "main_crime_df = crime_df[['Crime Name1', 'Crime Name2', 'Crime Name3', 'City', 'Start_Date_Time']]"
   ]
  },
  {
   "cell_type": "code",
   "execution_count": null,
   "metadata": {},
   "outputs": [],
   "source": [
    "# Remove crimeless data and changing columns name \n",
    "main_crime_df = main_crime_df.loc[main_crime_df['Crime Name1'] != 'Not a Crime']\n",
    "clean_crime_df = main_crime_df.rename(columns={'Crime Name1': 'Crime Main Category',\n",
    "                                             'Crime Name2': 'Crime Sub Category',\n",
    "                                             'Start_Date_Time': 'Date & Time of Crime'})\n",
    "\n",
    "clean_crime_df['Date & Time of Crime']= pd.to_datetime(clean_crime_df['Date & Time of Crime'])\n",
    "clean_crime_df['City'].value_counts()\n",
    "silverspring_crime_df = clean_crime_df.loc[clean_crime_df['City'] == 'SILVER SPRING']\n",
    "silverspring_crime_df"
   ]
  },
  {
   "cell_type": "code",
   "execution_count": null,
   "metadata": {},
   "outputs": [],
   "source": [
    "# Figure out the timeline of interest\n",
    "data_first_date = silverspring_crime_df['Date & Time of Crime'].min()\n",
    "data_last_date = silverspring_crime_df['Date & Time of Crime'].max()\n",
    "\n",
    "print(data_first_date)\n",
    "print(data_last_date)\n",
    "\n",
    "# Throw away 2016 and 2020 \n",
    "silverspring_clean_df = silverspring_crime_df.loc[(silverspring_crime_df['Date & Time of Crime'] > '2016-12-31 23:59:59') & (silverspring_crime_df['Date & Time of Crime'] < '2020-01-01 00:00:00')]"
   ]
  },
  {
   "cell_type": "code",
   "execution_count": null,
   "metadata": {
    "scrolled": true
   },
   "outputs": [],
   "source": [
    "silverspring_clean_df"
   ]
  },
  {
   "cell_type": "code",
   "execution_count": null,
   "metadata": {},
   "outputs": [],
   "source": [
    "# Extract year from string format date\n",
    "silverspring_clean_df['Year'] = pd.DatetimeIndex(silverspring_clean_df['Date & Time of Crime']).year\n",
    "silverspring_clean_df['Month'] = pd.DatetimeIndex(silverspring_clean_df['Date & Time of Crime']).month\n",
    "\n",
    "silverspring_clean_df.head(3)"
   ]
  },
  {
   "cell_type": "code",
   "execution_count": null,
   "metadata": {},
   "outputs": [],
   "source": [
    "combined_df = pd.merge(silverspring_clean_df, climate_df, on='Month')\n",
    "combined_df"
   ]
  },
  {
   "cell_type": "code",
   "execution_count": null,
   "metadata": {},
   "outputs": [],
   "source": []
  },
  {
   "cell_type": "code",
   "execution_count": null,
   "metadata": {},
   "outputs": [],
   "source": [
    "# Dan's code starts here - Property/Other"
   ]
  },
  {
   "cell_type": "code",
   "execution_count": null,
   "metadata": {},
   "outputs": [],
   "source": [
    "# Separate Crime Against Property from other crimes\n",
    "sspring_property = silverspring_clean_df.loc[(silverspring_clean_df['Crime Main Category'] == 'Crime Against Property')]\n",
    "sspring_property"
   ]
  },
  {
   "cell_type": "code",
   "execution_count": null,
   "metadata": {},
   "outputs": [],
   "source": [
    "# Separate Property Crimes by Year\n",
    "propcrime_2017 = sspring_property.loc[(sspring_property['Year'] == 2017)]\n",
    "propcrime_2018 = sspring_property.loc[(sspring_property['Year'] == 2018)]\n",
    "propcrime_2019 = sspring_property.loc[(sspring_property['Year'] == 2019)]"
   ]
  },
  {
   "cell_type": "code",
   "execution_count": null,
   "metadata": {},
   "outputs": [],
   "source": [
    "pc2017_x_axis = sorted(propcrime_2017['Month'])\n",
    "pc2017_y_axis = propcrime_2017['Month'].value_counts()\n",
    "pd.DataFrame(pc2017_y_axis) "
   ]
  },
  {
   "cell_type": "code",
   "execution_count": null,
   "metadata": {},
   "outputs": [],
   "source": [
    "# Dan's code ends here"
   ]
  },
  {
   "cell_type": "code",
   "execution_count": null,
   "metadata": {},
   "outputs": [],
   "source": [
    "# Cynthia's code starts here - Person"
   ]
  },
  {
   "cell_type": "markdown",
   "metadata": {},
   "source": [
    "Sub-Hypothesis: We believe that as temperature decreases to a certain point during the winter, the crime against person will also decreases. This is because people are less likely to come out during the winter time when it gets too cold, making crime occur less.\n"
   ]
  },
  {
   "cell_type": "code",
   "execution_count": null,
   "metadata": {},
   "outputs": [],
   "source": [
    "# Create Crime Against Person df\n",
    "person_crime_df = silverspring_clean_df.loc[(silverspring_clean_df['Crime Main Category'] == 'Crime Against Person'), :]\n",
    "person_crime_df"
   ]
  },
  {
   "cell_type": "code",
   "execution_count": null,
   "metadata": {},
   "outputs": [],
   "source": [
    "# Using Groupby to get the # of crime incidence for each month\n",
    "personmonthgroup = person_crime_df.groupby('Month')\n",
    "personcrime_count_month = personmonthgroup['Month'].count()\n",
    "personcrime_count_month\n",
    "\n",
    "# Turn count of crime into a dataframe\n",
    "personcrime_df = pd.DataFrame({'Number of Crime Incidence':personcrime_count_month})\n",
    "\n",
    "# Drop the index to get month column, add month name \n",
    "months = ['January', 'February', 'March', 'April', 'May', 'June', 'July', 'August', 'September', 'October', 'November', 'December']\n",
    "personcrime_index_df = personcrime_df.reset_index(drop=True)\n",
    "personcrime_index_df['Month'] = months\n",
    "personcrime_index_df = personcrime_index_df[['Month','Number of Crime Incidence']]\n",
    "personcrime_index_df"
   ]
  },
  {
   "cell_type": "code",
   "execution_count": null,
   "metadata": {},
   "outputs": [],
   "source": [
    "# Summary Stats for Number of Crime Incidence from 2017-2020\n"
   ]
  },
  {
   "cell_type": "code",
   "execution_count": null,
   "metadata": {},
   "outputs": [],
   "source": [
    "# Visualize the incidence of Crime Against Person for each month from 2017-2020\n",
    "x_all = personcrime_index_df['Month']\n",
    "y_all = personcrime_index_df['Number of Crime Incidence']\n",
    "\n",
    "plt.plot(x_all, y_all, marker='o')\n",
    "plt.xticks(rotation=45)\n",
    "\n",
    "plt.xlabel('Month')\n",
    "plt.ylabel('Number of Crime Incidence')\n",
    "plt.title('Numbers of Crimes Against Person for each Month from 2017-2020')\n",
    "\n",
    "plt.show()"
   ]
  },
  {
   "cell_type": "code",
   "execution_count": null,
   "metadata": {},
   "outputs": [],
   "source": [
    "## No corerlation when looking at crime rate collectively.... plot each year...?\n",
    "\n",
    "person_crime_df"
   ]
  },
  {
   "cell_type": "code",
   "execution_count": null,
   "metadata": {},
   "outputs": [],
   "source": [
    "# Create different df for different year (2017-2019)\n",
    "\n",
    "person_crime_2017df = person_crime_df.loc[person_crime_df['Year'] == 2017]\n",
    "person_crime_2018df = person_crime_df.loc[person_crime_df['Year'] == 2018]\n",
    "person_crime_2019df = person_crime_df.loc[person_crime_df['Year'] == 2019]"
   ]
  },
  {
   "cell_type": "code",
   "execution_count": null,
   "metadata": {},
   "outputs": [],
   "source": [
    "# Number of crime in each month for 2017\n",
    "\n",
    "personmonth2017 = person_crime_2017df.groupby('Month')\n",
    "personcrime_ct_2017 = personmonth2017['Month'].count()\n",
    "\n",
    "# Turn count of crime into a dataframe\n",
    "personcrime_ct_2017df = pd.DataFrame({'Number of Crime Incidence':personcrime_ct_2017})\n",
    "\n",
    "# Drop the index to get month column, add month name \n",
    "personcrime_ct_2017df = personcrime_ct_2017df.reset_index(drop=True)\n",
    "personcrime_ct_2017df['Month'] = months\n",
    "personcrime_ct_2017df = personcrime_ct_2017df[['Month','Number of Crime Incidence']]\n",
    "personcrime_ct_2017df"
   ]
  },
  {
   "cell_type": "code",
   "execution_count": null,
   "metadata": {},
   "outputs": [],
   "source": [
    "# Visualize the incidence of Crime Against Person for each month from 2017\n",
    "x_2017 = personcrime_ct_2017df['Month']\n",
    "y_2017 = personcrime_ct_2017df['Number of Crime Incidence']\n",
    "\n",
    "handle17, = plt.plot(x_2017, y_2017, marker='x')\n",
    "plt.xticks(rotation=45)\n",
    "\n",
    "plt.xlabel('Month')\n",
    "plt.ylabel('Number of Crime Incidence')\n",
    "plt.title('Numbers of Crimes Against Person for each Month in 2017')\n",
    "\n",
    "plt.show()"
   ]
  },
  {
   "cell_type": "code",
   "execution_count": null,
   "metadata": {},
   "outputs": [],
   "source": [
    "# Number of crime in each month for 2018\n",
    "\n",
    "personmonth2018 = person_crime_2018df.groupby('Month')\n",
    "personcrime_ct_2018 = personmonth2018['Month'].count()\n",
    "\n",
    "# Turn count of crime into a dataframe\n",
    "personcrime_ct_2018df = pd.DataFrame({'Number of Crime Incidence':personcrime_ct_2018})\n",
    "\n",
    "# Drop the index to get month column, add month name \n",
    "personcrime_ct_2018df = personcrime_ct_2018df.reset_index(drop=True)\n",
    "personcrime_ct_2018df['Month'] = months\n",
    "personcrime_ct_2018df = personcrime_ct_2018df[['Month','Number of Crime Incidence']]\n",
    "personcrime_ct_2018df"
   ]
  },
  {
   "cell_type": "code",
   "execution_count": null,
   "metadata": {},
   "outputs": [],
   "source": [
    "# Visualize the incidence of Crime Against Person for each month from 2018\n",
    "x_2018 = personcrime_ct_2018df['Month']\n",
    "y_2018 = personcrime_ct_2018df['Number of Crime Incidence']\n",
    "\n",
    "handle18, = plt.plot(x_2018, y_2018, marker='x')\n",
    "plt.xticks(rotation=45)\n",
    "\n",
    "plt.xlabel('Month')\n",
    "plt.ylabel('Number of Crime Incidence')\n",
    "plt.title('Numbers of Crimes Against Person for each Month in 2018')\n",
    "\n",
    "plt.show()"
   ]
  },
  {
   "cell_type": "code",
   "execution_count": null,
   "metadata": {},
   "outputs": [],
   "source": [
    "# Number of crime in each month for 2019\n",
    "\n",
    "personmonth2019 = person_crime_2019df.groupby('Month')\n",
    "personcrime_ct_2019 = personmonth2019['Month'].count()\n",
    "\n",
    "# Turn count of crime into a dataframe\n",
    "personcrime_ct_2019df = pd.DataFrame({'Number of Crime Incidence':personcrime_ct_2019})\n",
    "\n",
    "# Drop the index to get month column, add month name \n",
    "personcrime_ct_2019df = personcrime_ct_2019df.reset_index(drop=True)\n",
    "personcrime_ct_2019df['Month'] = months\n",
    "personcrime_ct_2019df = personcrime_ct_2019df[['Month','Number of Crime Incidence']]\n",
    "personcrime_ct_2019df"
   ]
  },
  {
   "cell_type": "code",
   "execution_count": null,
   "metadata": {},
   "outputs": [],
   "source": [
    "# Visualize the incidence of Crime Against Person for each month from 2019\n",
    "x_2019 = personcrime_ct_2019df['Month']\n",
    "y_2019 = personcrime_ct_2019df['Number of Crime Incidence']\n",
    "\n",
    "handle19, = plt.plot(x_2019, y_2019, marker='x')\n",
    "plt.xticks(rotation=45)\n",
    "\n",
    "plt.xlabel('Month')\n",
    "plt.ylabel('Number of Crime Incidence')\n",
    "plt.title('Numbers of Crimes Against Person for each Month in 2019')\n",
    "\n",
    "plt.show()"
   ]
  },
  {
   "cell_type": "code",
   "execution_count": null,
   "metadata": {
    "scrolled": true
   },
   "outputs": [],
   "source": [
    "# Generate a facet plot of all 3 figures \n",
    "\n",
    "# Graph from 2017\n",
    "handle17, = plt.plot(x_2017, y_2017, marker='x', label='2017')\n",
    "# Graph from 2018\n",
    "handle18, = plt.plot(x_2018, y_2018, marker='x', label='2018')\n",
    "# Graph from 2019\n",
    "handle19, = plt.plot(x_2019, y_2019, marker='x', label='2019')\n",
    "\n",
    "plt.xticks(rotation=45)\n",
    "\n",
    "plt.xlabel('Month')\n",
    "plt.ylabel('Number of Crime Incidence')\n",
    "plt.title('Numbers of Crimes Against Person for each Month in during 2017-2019', fontsize=12, fontweight='bold')\n",
    "\n",
    "plt.legend(loc=\"best\")\n",
    "plt.show()"
   ]
  },
  {
   "cell_type": "markdown",
   "metadata": {},
   "source": [
    "Generally, there seems to be lower indcidence of crime agaist person in January-February. Then crime incidence starts to increase in March and drops again around July-August before spikes again in September, before drops again in November or December."
   ]
  },
  {
   "cell_type": "code",
   "execution_count": null,
   "metadata": {},
   "outputs": [],
   "source": [
    "# Dataframe of Number of Crime incidence for all the years\n",
    "personcrime_ct_split_df =  pd.DataFrame({'2017 Count':personcrime_ct_2017,\n",
    "                                        '2018 Count': personcrime_ct_2018,\n",
    "                                        '2019 Count': personcrime_ct_2019})\n",
    "personcrime_ct_split_df"
   ]
  },
  {
   "cell_type": "code",
   "execution_count": null,
   "metadata": {
    "scrolled": true
   },
   "outputs": [],
   "source": [
    "climate_df"
   ]
  },
  {
   "cell_type": "code",
   "execution_count": null,
   "metadata": {
    "scrolled": true
   },
   "outputs": [],
   "source": [
    "# Adding climate and crime analysis\n",
    "personcrime_climate_df = pd.merge(personcrime_ct_split_df, climate_df, how='left', on='Month')\n",
    "# Removing Month number column\n",
    "del personcrime_climate_df['Month']\n",
    "# Rename and re-organize the columns in the dataframe\n",
    "personcrime_climate_df = personcrime_climate_df.rename(columns={\n",
    "    'MonthName': 'Month', 'Temp': 'Temperature (F)'\n",
    "})\n",
    "personcrime_climate_df = personcrime_climate_df[['Month','2017 Count', '2018 Count', '2019 Count', 'Temperature (F)']]\n",
    "personcrime_climate_df"
   ]
  },
  {
   "cell_type": "code",
   "execution_count": null,
   "metadata": {},
   "outputs": [],
   "source": []
  },
  {
   "cell_type": "code",
   "execution_count": null,
   "metadata": {},
   "outputs": [],
   "source": [
    "# Create a New Dataframe for number of crimes in each month, indexed by year & month\n",
    "personmonthyeargroup = person_crime_df.groupby(['Year','Month'])\n",
    "personcrime_count_mmyy = personmonthyeargroup['Month'].count()\n",
    "personcrime_count_mmyy_df = pd.DataFrame({'Number of Crime Incidence':personcrime_count_mmyy})\n",
    "\n",
    "# Reset the index to allow further data anaylysis\n",
    "personcrime_count_mmyy_df = personcrime_count_mmyy_df.reset_index(drop=False)\n",
    "personcrime_count_mmyy_df"
   ]
  },
  {
   "cell_type": "code",
   "execution_count": null,
   "metadata": {},
   "outputs": [],
   "source": [
    "# Taking the average of the amount of crime for each month from 2017-2019\n",
    "avgcrimepersongroup = personcrime_count_mmyy_df.groupby('Month')\n",
    "avgcrime_person = avgcrimepersongroup['Number of Crime Incidence'].mean()\n",
    "\n",
    "personcrime_avg_ct_df = pd.DataFrame({'Average Number of Crime (Person)':avgcrime_person})\n",
    "personcrime_avg_ct_df = personcrime_avg_ct_df.reset_index(drop=False)\n",
    "personcrime_avg_ct_df"
   ]
  },
  {
   "cell_type": "code",
   "execution_count": null,
   "metadata": {},
   "outputs": [],
   "source": [
    "# Merge the average of crime df with climate df\n",
    "avgcrime_person_temp_df = pd.merge(personcrime_avg_ct_df, climate_df, how='inner', on='Month')\n",
    "avgcrime_person_temp_df"
   ]
  },
  {
   "cell_type": "code",
   "execution_count": null,
   "metadata": {},
   "outputs": [],
   "source": [
    "# Removing Month number column\n",
    "del avgcrime_person_temp_df['Month']"
   ]
  },
  {
   "cell_type": "code",
   "execution_count": null,
   "metadata": {},
   "outputs": [],
   "source": [
    "# Rename and re-organize the columns in the dataframe\n",
    "avgcrime_person_temp_df = avgcrime_person_temp_df.rename(columns={\n",
    "    'MonthName': 'Month', 'Temp': 'Temperature (F)'\n",
    "})\n",
    "avgcrime_person_temp_df = avgcrime_person_temp_df[['Month','Average Number of Crime (Person)', 'Temperature (F)']]\n",
    "\n",
    "avgcrime_person_temp_df\n",
    "# don't forget to come back here and sort it"
   ]
  },
  {
   "cell_type": "code",
   "execution_count": null,
   "metadata": {},
   "outputs": [],
   "source": [
    "# Perform regression to look at average of crime and temperature\n",
    "x_avgperson = avgcrime_person_temp_df['Temperature (F)']\n",
    "y_avgperson = avgcrime_person_temp_df['Average Number of Crime (Person)'].astype(int)\n",
    "\n",
    "plt.scatter(x_avgperson, y_avgperson, marker='+')\n",
    "\n",
    "# Labels\n",
    "plt.xlabel('Temperature (F)')\n",
    "plt.ylabel('Average Number of Crime')\n",
    "plt.title('Average Number of Crime Agaist Person VS Temperature (F)', fontsize=12, fontweight='bold')\n",
    "# plt.legend(loc=\"best\")\n",
    "\n",
    "# Add the linear regression equation and line to plot\n",
    "(slope, intercept, rvalue, pvalue, stderr) = linregress(x_avgperson, y_avgperson)\n",
    "regress_values = x_avgperson * slope + intercept\n",
    "line_eq = \"y = \" + str(round(slope,2)) + \"x + \" + str(round(intercept,2))\n",
    "plt.plot(x_avgperson,regress_values,\"r-\")\n",
    "plt.annotate(line_eq,(60,120),fontsize=15,color=\"red\")\n",
    "print(f\"The r value is: {rvalue}\")\n",
    "print(f\"The r-squared is: {rvalue**2}\")\n",
    "\n",
    "plt.show()"
   ]
  },
  {
   "cell_type": "code",
   "execution_count": null,
   "metadata": {},
   "outputs": [],
   "source": []
  },
  {
   "cell_type": "code",
   "execution_count": null,
   "metadata": {},
   "outputs": [],
   "source": []
  },
  {
   "cell_type": "code",
   "execution_count": null,
   "metadata": {},
   "outputs": [],
   "source": [
    "# Cynthia's code ends here"
   ]
  },
  {
   "cell_type": "code",
   "execution_count": null,
   "metadata": {},
   "outputs": [],
   "source": [
    "# Rose's code starts here - Society"
   ]
  },
  {
   "cell_type": "code",
   "execution_count": null,
   "metadata": {},
   "outputs": [],
   "source": [
    "# Rose's code ends here"
   ]
  },
  {
   "cell_type": "code",
   "execution_count": null,
   "metadata": {},
   "outputs": [],
   "source": [
    "# Paul's code starts here - API!!!"
   ]
  },
  {
   "cell_type": "code",
   "execution_count": null,
   "metadata": {},
   "outputs": [],
   "source": [
    "# Paul's code ends here"
   ]
  }
 ],
 "metadata": {
  "kernelspec": {
   "display_name": "Python 3",
   "language": "python",
   "name": "python3"
  },
  "language_info": {
   "codemirror_mode": {
    "name": "ipython",
    "version": 3
   },
   "file_extension": ".py",
   "mimetype": "text/x-python",
   "name": "python",
   "nbconvert_exporter": "python",
   "pygments_lexer": "ipython3",
   "version": "3.6.10"
  }
 },
 "nbformat": 4,
 "nbformat_minor": 4
}
