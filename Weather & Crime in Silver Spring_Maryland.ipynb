{
 "cells": [
  {
   "cell_type": "markdown",
   "metadata": {},
   "source": [
    "Hypothesis: We believe there's a correlation between temperature and the incidence of crime in Silver Spring, Maryland\n"
   ]
  },
  {
   "cell_type": "code",
   "execution_count": null,
   "metadata": {},
   "outputs": [],
   "source": [
    "# Dependencies\n",
    "import numpy as np\n",
    "import pandas as pd\n",
    "import matplotlib.pyplot as plt\n",
    "from scipy.stats import linregress\n",
    "import datetime"
   ]
  },
  {
   "cell_type": "code",
   "execution_count": null,
   "metadata": {},
   "outputs": [],
   "source": [
    "# Save file path to variable\n",
    "crimeMD_path = \"Crime_MD.csv\"\n",
    "# silverspring_path = \"silver_spring_climate.csv\"\n",
    "\n",
    "# Read with Pandas\n",
    "crime_df = pd.read_csv(crimeMD_path, low_memory=False)\n",
    "# silverspring_temp_df = pd.read_csv(silverspring_path)\n"
   ]
  },
  {
   "cell_type": "code",
   "execution_count": null,
   "metadata": {},
   "outputs": [],
   "source": [
    "# Save file path to variable\n",
    "climateMD_path = \"silver_spring_climate.csv\"\n",
    "\n",
    "# Read with Pandas\n",
    "climate_df = pd.read_csv(climateMD_path, low_memory=False)"
   ]
  },
  {
   "cell_type": "code",
   "execution_count": null,
   "metadata": {},
   "outputs": [],
   "source": [
    "# Formatting the month for merge later\n",
    "climate_df.columns = ['MonthName','Temp']\n",
    "df = pd.to_datetime(climate_df['MonthName'], format='%B').dt.month\n",
    "climate_df['Month'] = df\n",
    "climate_df"
   ]
  },
  {
   "cell_type": "code",
   "execution_count": null,
   "metadata": {},
   "outputs": [],
   "source": [
    "# Pulling out only the columns of interest\n",
    "main_crime_df = crime_df[['Crime Name1', 'Crime Name2', 'Crime Name3', 'City', 'Start_Date_Time']]"
   ]
  },
  {
   "cell_type": "code",
   "execution_count": null,
   "metadata": {},
   "outputs": [],
   "source": [
    "# Remove crimeless data and changing columns name \n",
    "main_crime_df = main_crime_df.loc[main_crime_df['Crime Name1'] != 'Not a Crime']\n",
    "clean_crime_df = main_crime_df.rename(columns={'Crime Name1': 'Crime Main Category',\n",
    "                                             'Crime Name2': 'Crime Sub Category',\n",
    "                                             'Start_Date_Time': 'Date & Time of Crime'})\n",
    "\n",
    "clean_crime_df['Date & Time of Crime']= pd.to_datetime(clean_crime_df['Date & Time of Crime'])\n",
    "clean_crime_df['City'].value_counts()\n",
    "silverspring_crime_df = clean_crime_df.loc[clean_crime_df['City'] == 'SILVER SPRING']\n",
    "silverspring_crime_df"
   ]
  },
  {
   "cell_type": "code",
   "execution_count": null,
   "metadata": {},
   "outputs": [],
   "source": [
    "# Figure out the timeline of interest\n",
    "data_first_date = silverspring_crime_df['Date & Time of Crime'].min()\n",
    "data_last_date = silverspring_crime_df['Date & Time of Crime'].max()\n",
    "\n",
    "print(data_first_date)\n",
    "print(data_last_date)\n",
    "\n",
    "# Throw away 2016 and 2020 \n",
    "silverspring_clean_df = silverspring_crime_df.loc[(silverspring_crime_df['Date & Time of Crime'] > '2016-12-31 23:59:59') & (silverspring_crime_df['Date & Time of Crime'] < '2020-01-01 00:00:00')]"
   ]
  },
  {
   "cell_type": "code",
   "execution_count": null,
   "metadata": {
    "scrolled": true
   },
   "outputs": [],
   "source": [
    "silverspring_clean_df"
   ]
  },
  {
   "cell_type": "code",
   "execution_count": null,
   "metadata": {},
   "outputs": [],
   "source": [
    "# Extract year from string format date\n",
    "silverspring_clean_df['Year'] = pd.DatetimeIndex(silverspring_clean_df['Date & Time of Crime']).year\n",
    "silverspring_clean_df['Month'] = pd.DatetimeIndex(silverspring_clean_df['Date & Time of Crime']).month\n",
    "\n",
    "silverspring_clean_df.head(3)"
   ]
  },
  {
   "cell_type": "code",
   "execution_count": null,
   "metadata": {},
   "outputs": [],
   "source": [
    "combined_df = pd.merge(silverspring_clean_df, climate_df, on='Month')\n",
    "combined_df\n"
   ]
  },
  {
   "cell_type": "code",
   "execution_count": null,
   "metadata": {},
   "outputs": [],
   "source": []
  },
  {
   "cell_type": "code",
   "execution_count": null,
   "metadata": {},
   "outputs": [],
   "source": [
    "# Dan's code starts here - Property/Other"
   ]
  },
  {
   "cell_type": "code",
   "execution_count": null,
   "metadata": {},
   "outputs": [],
   "source": []
  },
  {
   "cell_type": "code",
   "execution_count": null,
   "metadata": {},
   "outputs": [],
   "source": []
  },
  {
   "cell_type": "code",
   "execution_count": null,
   "metadata": {},
   "outputs": [],
   "source": []
  },
  {
   "cell_type": "code",
   "execution_count": null,
   "metadata": {},
   "outputs": [],
   "source": [
    "# Dan's code ends here"
   ]
  },
  {
   "cell_type": "code",
   "execution_count": null,
   "metadata": {},
   "outputs": [],
   "source": [
    "# Cynthia's code starts here - Person"
   ]
  },
  {
   "cell_type": "markdown",
   "metadata": {},
   "source": [
    "Sub-Hypothesis: We believe that as temperature decreases to a certain point during the winter, the crime against person will also decreases. This is because people are less likely to come out during the winter time when it gets too cold, making crime occur less.\n"
   ]
  },
  {
   "cell_type": "code",
   "execution_count": null,
   "metadata": {},
   "outputs": [],
   "source": []
  },
  {
   "cell_type": "code",
   "execution_count": null,
   "metadata": {},
   "outputs": [],
   "source": []
  },
  {
   "cell_type": "code",
   "execution_count": null,
   "metadata": {},
   "outputs": [],
   "source": []
  },
  {
   "cell_type": "code",
   "execution_count": null,
   "metadata": {},
   "outputs": [],
   "source": [
    "# Cynthia's code ends here"
   ]
  },
  {
   "cell_type": "code",
   "execution_count": null,
   "metadata": {},
   "outputs": [],
   "source": [
    "# Rose's code starts here - Society "
   ]
  },
  {
   "cell_type": "code",
   "execution_count": null,
   "metadata": {},
   "outputs": [],
   "source": [
    "#Society crimes df\n",
    "scrime_df = silverspring_clean_df.loc[(silverspring_clean_df['Crime Main Category'] == 'Crime Against Society'), :]\n",
    "scrime_df\n"
   ]
  },
  {
   "cell_type": "code",
   "execution_count": null,
   "metadata": {},
   "outputs": [],
   "source": [
    "#crime per month\n",
    "society_month = scrime_df.groupby(\"Month\")\n",
    "society_month_count = society_month[\"Month\"].count()\n",
    "society_month_count\n",
    "\n",
    "#df\n",
    "society_df = pd.DataFrame({\"Number of Crime Incidence\":society_month_count})\n",
    "\n",
    "months = [\"January\", \"February\", \"March\", \"April\", \"May\", \"June\", \"July\", \"August\", \"September\", \"October\", \"November\", \"December\"]\n",
    "scrime_index_df = society_df.reset_index(drop=True)\n",
    "scrime_index_df[\"Month\"] = months\n",
    "scrime_index_df = scrime_index_df[[\"Month\",\"Number of Crime Incidence\"]]\n",
    "scrime_index_df"
   ]
  },
  {
   "cell_type": "code",
   "execution_count": null,
   "metadata": {},
   "outputs": [],
   "source": [
    "#graph\n",
    "x_all = scrime_index_df[\"Month\"]\n",
    "y_all = scrime_index_df[\"Number of Crime Incidence\"]\n",
    "\n",
    "\n",
    "plt.plot(x_all, y_all, marker='o')\n",
    "plt.xticks(rotation=45)\n",
    "\n",
    "plt.xlabel(\"Month\")\n",
    "plt.ylabel(\"Number of Crime Incidence\")\n",
    "plt.title(\"Crimes Against Society 2017-2020\")\n",
    "\n",
    "plt.show()"
   ]
  },
  {
   "cell_type": "code",
   "execution_count": null,
   "metadata": {},
   "outputs": [],
   "source": [
    "#df for each year\n",
    "scrime_2017df = scrime_df.loc[scrime_df[\"Year\"] == 2017]\n",
    "scrime_2018df = scrime_df.loc[scrime_df[\"Year\"] == 2018]\n",
    "scrime_2019df = scrime_df.loc[scrime_df[\"Year\"] == 2019]"
   ]
  },
  {
   "cell_type": "code",
   "execution_count": null,
   "metadata": {},
   "outputs": [],
   "source": [
    "#crimes per month 2017\n",
    "scrimemonth2017 = scrime_2017df.groupby(\"Month\")\n",
    "scrime2017count = scrimemonth2017[\"Month\"].count()\n",
    "\n",
    "#2017 df\n",
    "society_2017df = pd.DataFrame({\"Number of Crime Incidence\":scrime2017count})\n",
    "\n",
    "#index\n",
    "society_2017df = society_2017df.reset_index(drop=True)\n",
    "society_2017df[\"Month\"] = months\n",
    "society_2017df = society_2017df[[\"Month\", \"Number of Crime Incidence\"]]\n",
    "society_2017df"
   ]
  },
  {
   "cell_type": "code",
   "execution_count": null,
   "metadata": {},
   "outputs": [],
   "source": [
    "#graph\n",
    "x_2017 = society_2017df[\"Month\"]\n",
    "y_2017 = society_2017df[\"Number of Crime Incidence\"]\n",
    "\n",
    "handle17, = plt.plot(x_2017, y_2017, marker=\"x\")\n",
    "plt.xticks(rotation=45)\n",
    "\n",
    "plt.xlabel(\"Month\")\n",
    "plt.ylabel(\"Number of Crime Incidence\")\n",
    "plt.title(\"Crimes Against Society 2017\")\n",
    "\n",
    "plt.show()"
   ]
  },
  {
   "cell_type": "code",
   "execution_count": null,
   "metadata": {},
   "outputs": [],
   "source": [
    "#crimes per month 2018\n",
    "scrimemonth2018 = scrime_2018df.groupby(\"Month\")\n",
    "scrime2018count = scrimemonth2018[\"Month\"].count()\n",
    "\n",
    "#2018 df\n",
    "society_2018df = pd.DataFrame({\"Number of Crime Incidence\":scrime2018count})\n",
    "\n",
    "#index\n",
    "society_2018df = society_2018df.reset_index(drop=True)\n",
    "society_2018df[\"Month\"] = months\n",
    "society_2018df = society_2018df[[\"Month\", \"Number of Crime Incidence\"]]\n",
    "society_2018df"
   ]
  },
  {
   "cell_type": "code",
   "execution_count": null,
   "metadata": {},
   "outputs": [],
   "source": [
    "#graph\n",
    "x_2018 = society_2018df[\"Month\"]\n",
    "y_2018 = society_2018df[\"Number of Crime Incidence\"]\n",
    "\n",
    "handle18, = plt.plot(x_2018, y_2018, marker=\"x\")\n",
    "plt.xticks(rotation=45)\n",
    "\n",
    "plt.xlabel(\"Month\")\n",
    "plt.ylabel(\"Number of Crime Incidence\")\n",
    "plt.title(\"Crimes Against Society 2018\")\n",
    "\n",
    "plt.show()"
   ]
  },
  {
   "cell_type": "code",
   "execution_count": null,
   "metadata": {},
   "outputs": [],
   "source": [
    "#crimes per month 2019\n",
    "scrimemonth2019 = scrime_2019df.groupby(\"Month\")\n",
    "scrime2019count = scrimemonth2019[\"Month\"].count()\n",
    "\n",
    "#2018 df\n",
    "society_2019df = pd.DataFrame({\"Number of Crime Incidence\":scrime2019count})\n",
    "\n",
    "#index\n",
    "society_2019df = society_2019df.reset_index(drop=True)\n",
    "society_2019df[\"Month\"] = months\n",
    "society_2019df = society_2019df[[\"Month\", \"Number of Crime Incidence\"]]\n",
    "society_2019df"
   ]
  },
  {
   "cell_type": "code",
   "execution_count": null,
   "metadata": {},
   "outputs": [],
   "source": [
    "#graph\n",
    "x_2019 = society_2019df[\"Month\"]\n",
    "y_2019 = society_2019df[\"Number of Crime Incidence\"]\n",
    "\n",
    "handle19, = plt.plot(x_2019, y_2019, marker=\"x\")\n",
    "plt.xticks(rotation=45)\n",
    "\n",
    "plt.xlabel(\"Month\")\n",
    "plt.ylabel(\"Number of Crime Incidence\")\n",
    "plt.title(\"Crimes Against Society 2019\")\n",
    "plt.show()"
   ]
  },
  {
   "cell_type": "code",
   "execution_count": null,
   "metadata": {},
   "outputs": [],
   "source": [
    "#show all 3 figures\n",
    "handle17, = plt.plot(x_2017, y_2017, label=\"2017\")\n",
    "handle18, = plt.plot(x_2018, y_2018, label=\"2017\")\n",
    "handle19, = plt.plot(x_2019, y_2019, label=\"2017\")\n",
    "\n",
    "plt.xticks(rotation=45)\n",
    "\n",
    "plt.xlabel(\"Month\")\n",
    "plt.ylabel(\"Number of Crimes\")\n",
    "plt.title(\"Numbers of Crimes Against Society 2017-2019\", fontsize=12, fontweight=\"bold\")\n",
    "\n",
    "plt.legend(loc=\"best\")\n",
    "plt.show()"
   ]
  },
  {
   "cell_type": "code",
   "execution_count": null,
   "metadata": {},
   "outputs": [],
   "source": [
    "societycrime_split_df = pd.DataFrame({\"2017 Crimes\": scrime2017count,\n",
    "                                      \"2018 Crimes\": scrime2018count,\n",
    "                                      \"2019 Crimes\": scrime2019count})\n",
    "societycrime_split_df"
   ]
  },
  {
   "cell_type": "code",
   "execution_count": null,
   "metadata": {
    "scrolled": true
   },
   "outputs": [],
   "source": [
    "climate_df"
   ]
  },
  {
   "cell_type": "code",
   "execution_count": null,
   "metadata": {},
   "outputs": [],
   "source": [
    "#merge crime and climate\n",
    "scrime_climate_df = pd.merge(societycrime_split_df, climate_df, how=\"left\", on=\"Month\")\n",
    "del scrime_climate_df[\"Month\"]\n",
    "scrime_climate_df = scrime_climate_df.rename(columns={\n",
    "    \"MonthName\": \"Month\", \"Temp\": \"Temperature (F)\"\n",
    "})\n",
    "\n",
    "scrime_climate_df = scrime_climate_df[[\"Month\", \"2017 Crimes\", \"2018 Crimes\", \"2019 Crimes\", \"Temperature (F)\"]]\n",
    "\n",
    "scrime_climate_df"
   ]
  },
  {
   "cell_type": "code",
   "execution_count": null,
   "metadata": {},
   "outputs": [],
   "source": [
    "societygroup = scrime_df.groupby([\"Year\",\"Month\"])\n",
    "society_month_year = societygroup[\"Month\"].count()\n",
    "s_month_year_df = pd.DataFrame({\"Number of Crime Incidence\":society_month_year})\n",
    "\n",
    "s_month_year_df = s_month_year_df.reset_index(drop=False)\n",
    "s_month_year_df\n"
   ]
  },
  {
   "cell_type": "code",
   "execution_count": null,
   "metadata": {},
   "outputs": [],
   "source": [
    "#average for each month\n",
    "scrimeavg = s_month_year_df.groupby(\"Month\")\n",
    "societycrimeavg = scrimeavg[\"Number of Crime Incidence\"].mean()\n",
    "\n",
    "scrime_avg_df = pd.DataFrame({\"Average Number of Crime (Society)\": societycrimeavg})\n",
    "scrime_avg_df = scrime_avg_df.reset_index(drop=False)\n",
    "scrime_avg_df"
   ]
  },
  {
   "cell_type": "code",
   "execution_count": null,
   "metadata": {},
   "outputs": [],
   "source": [
    "#merge with climate\n",
    "savg_crime_climate = pd.merge(scrime_avg_df, climate_df, how=\"inner\", on=\"Month\")\n",
    "savg_crime_climate"
   ]
  },
  {
   "cell_type": "code",
   "execution_count": null,
   "metadata": {},
   "outputs": [],
   "source": [
    "del savg_crime_climate[\"Month\"]"
   ]
  },
  {
   "cell_type": "code",
   "execution_count": null,
   "metadata": {},
   "outputs": [],
   "source": [
    "# Rename and re-organize the columns in the dataframe\n",
    "savg_crime_climate = savg_crime_climate.rename(columns={\n",
    "    'MonthName': 'Month', 'Temp': 'Temperature (F)'\n",
    "})\n",
    "savg_crime_climate = savg_crime_climate[['Month','Average Number of Crime (Society)', 'Temperature (F)']]\n",
    "\n",
    "savg_crime_climate"
   ]
  },
  {
   "cell_type": "code",
   "execution_count": null,
   "metadata": {},
   "outputs": [],
   "source": [
    "# Regression\n",
    "x_avgsociety = savg_crime_climate['Temperature (F)']\n",
    "y_avgsociety = savg_crime_climate['Average Number of Crime (Society)'].astype(int)\n",
    "\n",
    "plt.scatter(x_avgsociety, y_avgsociety, marker='+')\n",
    "\n",
    "# Labels\n",
    "plt.xlabel('Temperature (F)')\n",
    "plt.ylabel('Average Number of Crime')\n",
    "plt.title('Average Number of Crime Agaist Society VS Temperature (F)', fontsize=12, fontweight='bold')\n",
    "# plt.legend(loc=\"best\")\n",
    "\n",
    "# Add the linear regression equation and line to plot\n",
    "(slope, intercept, rvalue, pvalue, stderr) = linregress(x_avgsociety, y_avgsociety)\n",
    "regress_values = x_avgsociety * slope + intercept\n",
    "line_eq = \"y = \" + str(round(slope,2)) + \"x + \" + str(round(intercept,2))\n",
    "plt.plot(x_avgsociety,regress_values,\"r-\")\n",
    "plt.annotate(line_eq,(60,500),fontsize=15,color=\"red\")\n",
    "print(f\"The r value is: {rvalue}\")\n",
    "print(f\"The r-squared is: {rvalue**2}\")\n",
    "\n",
    "plt.show()"
   ]
  },
  {
   "cell_type": "code",
   "execution_count": null,
   "metadata": {},
   "outputs": [],
   "source": [
    "# Sort the df by temperature to get some insight\n",
    "savg_crime_climate.sort_values('Temperature (F)', ascending=False)\n",
    "\n",
    "# Create 4 bins to place average number of crime\n",
    "bins = [40, 50, 67, 80, 90]\n",
    "\n",
    "# Create labels for the bins\n",
    "group_bins = ['Cold', 'Cool', 'Warm', 'Hot']\n",
    "\n",
    "# Slice the data and place it into bins\n",
    "bin_slice = pd.cut(savg_crime_climate['Temperature (F)'], bins, labels=group_bins)\n",
    "\n",
    "# Create a new column where the data shows the bins they belong\n",
    "savg_crime_climate['Temperature Category'] = bin_slice\n",
    "savg_crime_climate"
   ]
  },
  {
   "cell_type": "code",
   "execution_count": null,
   "metadata": {},
   "outputs": [],
   "source": [
    "society_temp = savg_crime_climate.groupby(\"Temperature Category\")\n",
    "\n",
    "society_avg_temp = society_temp[[\"Average Number of Crime (Society)\"]].mean()\n",
    "\n",
    "society_avg_temp"
   ]
  },
  {
   "cell_type": "code",
   "execution_count": null,
   "metadata": {},
   "outputs": [],
   "source": []
  },
  {
   "cell_type": "code",
   "execution_count": null,
   "metadata": {},
   "outputs": [],
   "source": []
  },
  {
   "cell_type": "code",
   "execution_count": null,
   "metadata": {},
   "outputs": [],
   "source": [
    "# Rose's code ends here"
   ]
  },
  {
   "cell_type": "code",
   "execution_count": null,
   "metadata": {},
   "outputs": [],
   "source": [
    "# Paul's code starts here - API!!!"
   ]
  },
  {
   "cell_type": "code",
   "execution_count": null,
   "metadata": {},
   "outputs": [],
   "source": [
    "# Paul's code ends here"
   ]
  }
 ],
 "metadata": {
  "kernelspec": {
   "display_name": "Python 3",
   "language": "python",
   "name": "python3"
  },
  "language_info": {
   "codemirror_mode": {
    "name": "ipython",
    "version": 3
   },
   "file_extension": ".py",
   "mimetype": "text/x-python",
   "name": "python",
   "nbconvert_exporter": "python",
   "pygments_lexer": "ipython3",
   "version": "3.6.10"
  }
 },
 "nbformat": 4,
 "nbformat_minor": 4
}
