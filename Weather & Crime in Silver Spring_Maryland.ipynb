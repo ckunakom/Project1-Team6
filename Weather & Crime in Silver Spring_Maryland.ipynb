{
 "cells": [
  {
   "cell_type": "markdown",
   "metadata": {},
   "source": [
    "# Crime in Silver Spring, MD and Temperature"
   ]
  },
  {
   "cell_type": "markdown",
   "metadata": {},
   "source": [
    "The below script explores the relationship between the incidence of crime in Silver Spring, Maryland from 2017-2019 and the temperature of the weather. \n",
    "We used Pandas, Matplotlib, Linregress to accomplish our task."
   ]
  },
  {
   "cell_type": "markdown",
   "metadata": {},
   "source": [
    "[Logic behind our topic] We believe there might be a correlation between the temperature and the incidence of crime. During the winter when it's hardly feasible to be outside, it seems logical that there will be less incidence of crime compared to the summer, spring or fall."
   ]
  },
  {
   "cell_type": "code",
   "execution_count": null,
   "metadata": {},
   "outputs": [],
   "source": [
    "# Dependencies\n",
    "import pandas as pd\n",
    "import matplotlib.pyplot as plt\n",
    "from scipy.stats import linregress\n",
    "import datetime\n",
    "import warnings\n",
    "warnings.filterwarnings('ignore')\n",
    "import scipy.stats as stats"
   ]
  },
  {
   "cell_type": "markdown",
   "metadata": {},
   "source": [
    "## Data Retrieval"
   ]
  },
  {
   "cell_type": "markdown",
   "metadata": {},
   "source": [
    "Crime Data: We retrieved the raw data of crime statistic in Maryland from dataMontgomery (https://data.montgomerycountymd.gov/Public-Safety/Crime/icn6-v9z3) in the csv format. "
   ]
  },
  {
   "cell_type": "markdown",
   "metadata": {},
   "source": [
    "Climate Data: ____________________________________ [URL HERE] "
   ]
  },
  {
   "cell_type": "markdown",
   "metadata": {},
   "source": [
    "Limitation with API: _______________\n",
    "\n",
    "We ran into the problem of not being able to get the temperature data for data point after our 2nd project meeting, and decided to get the average temperature of each month. ---------EXPLAIN THE VALIDITY OF USING CLIMATE DATA---------------\n",
    "\n",
    "Because of this limitation we also have to limit our analysis to one city as opposed to using every city with the available data in our csv file. We selected our data to be of a city with the highest number of crimes, so we have a good amount of data."
   ]
  },
  {
   "cell_type": "code",
   "execution_count": null,
   "metadata": {
    "scrolled": true
   },
   "outputs": [],
   "source": [
    "# Crime Data\n",
    "# Save file path to variable\n",
    "crimeMD_path = \"Crime_MD.csv\"\n",
    "\n",
    "# Read with Pandas\n",
    "crime_df = pd.read_csv(crimeMD_path, low_memory=False)\n",
    "crime_df"
   ]
  },
  {
   "cell_type": "code",
   "execution_count": null,
   "metadata": {},
   "outputs": [],
   "source": [
    "# Climate Data\n",
    "# Save file path to variable\n",
    "climateMD_path = \"silver_spring_climate.csv\"\n",
    "\n",
    "# Read with Pandas\n",
    "climate_df = pd.read_csv(climateMD_path, low_memory=False)\n",
    "climate_df"
   ]
  },
  {
   "cell_type": "code",
   "execution_count": null,
   "metadata": {},
   "outputs": [],
   "source": [
    "# Formatting the month for climate data for merge later\n",
    "climate_df.columns = ['MonthName','Temp']\n",
    "df = pd.to_datetime(climate_df['MonthName'], format='%B').dt.month\n",
    "climate_df['Month'] = df\n",
    "climate_df"
   ]
  },
  {
   "cell_type": "code",
   "execution_count": null,
   "metadata": {},
   "outputs": [],
   "source": [
    "# Pulling out only the columns of interest\n",
    "main_crime_df = crime_df[['Crime Name1', 'Crime Name2', 'Crime Name3', 'City', 'Start_Date_Time']]\n",
    "main_crime_df"
   ]
  },
  {
   "cell_type": "code",
   "execution_count": null,
   "metadata": {},
   "outputs": [],
   "source": [
    "# Remove data with entry not considered as 'crime' and changing columns name \n",
    "main_crime_df = main_crime_df.loc[main_crime_df['Crime Name1'] != 'Not a Crime']\n",
    "clean_crime_df = main_crime_df.rename(columns={'Crime Name1': 'Crime Main Category',\n",
    "                                             'Crime Name2': 'Crime Sub Category',\n",
    "                                             'Start_Date_Time': 'Date & Time of Crime'})\n",
    "\n",
    "# Changed the string format of the Date & Time to be in the date/time format\n",
    "clean_crime_df['Date & Time of Crime']= pd.to_datetime(clean_crime_df['Date & Time of Crime'])"
   ]
  },
  {
   "cell_type": "code",
   "execution_count": null,
   "metadata": {},
   "outputs": [],
   "source": [
    "# City Selection: Explore what city has the highest number of crime - Silver Spring!\n",
    "clean_crime_df['City'].value_counts()"
   ]
  },
  {
   "cell_type": "code",
   "execution_count": null,
   "metadata": {},
   "outputs": [],
   "source": [
    "# Create a crime dataframe for Silver Spring\n",
    "silverspring_crime_df = clean_crime_df.loc[clean_crime_df['City'] == 'SILVER SPRING']\n",
    "silverspring_crime_df"
   ]
  },
  {
   "cell_type": "code",
   "execution_count": null,
   "metadata": {},
   "outputs": [],
   "source": [
    "# Figure out the timeline of our raw data\n",
    "data_first_date = silverspring_crime_df['Date & Time of Crime'].min()\n",
    "data_last_date = silverspring_crime_df['Date & Time of Crime'].max()\n",
    "\n",
    "print(data_first_date)\n",
    "print(data_last_date)\n",
    "\n",
    "# Throw away 2016 and 2020 in order to have a data of a full year\n",
    "silverspring_clean_df = silverspring_crime_df.loc[(silverspring_crime_df['Date & Time of Crime'] > '2016-12-31 23:59:59') & (silverspring_crime_df['Date & Time of Crime'] < '2020-01-01 00:00:00')]\n",
    "silverspring_clean_df"
   ]
  },
  {
   "cell_type": "code",
   "execution_count": null,
   "metadata": {},
   "outputs": [],
   "source": [
    "# Extract just the year and month from the Data/Time column\n",
    "silverspring_clean_df['Year'] = pd.DatetimeIndex(silverspring_clean_df['Date & Time of Crime']).year\n",
    "silverspring_clean_df['Month'] = pd.DatetimeIndex(silverspring_clean_df['Date & Time of Crime']).month\n",
    "\n",
    "silverspring_clean_df.head(3)"
   ]
  },
  {
   "cell_type": "code",
   "execution_count": null,
   "metadata": {},
   "outputs": [],
   "source": [
    "# Explore the types of crimes\n",
    "silverspring_clean_df['Crime Main Category'].value_counts()"
   ]
  },
  {
   "cell_type": "markdown",
   "metadata": {},
   "source": [
    "Overall Crime in Silver Spring\n",
    "-------------------------------------------"
   ]
  },
  {
   "cell_type": "code",
   "execution_count": null,
   "metadata": {},
   "outputs": [],
   "source": [
    "# Paul's code starts here "
   ]
  },
  {
   "cell_type": "code",
   "execution_count": null,
   "metadata": {},
   "outputs": [],
   "source": [
    "# Merge the cleaned crime data with the climate data\n",
    "combined_df = pd.merge(silverspring_clean_df, climate_df, on='Month')\n",
    "combined_df"
   ]
  },
  {
   "cell_type": "code",
   "execution_count": null,
   "metadata": {},
   "outputs": [],
   "source": [
    "# Group the data by month\n",
    "group_monthly = combined_df.groupby(['Year','Month'])\n",
    "monthly = group_monthly['Crime Main Category'].count()\n",
    "temp = group_monthly['Temp'].first()\n",
    "monthly_temp_df = pd.DataFrame({'Crime' : monthly, 'Temperature' : temp})\n"
   ]
  },
  {
   "cell_type": "code",
   "execution_count": null,
   "metadata": {},
   "outputs": [],
   "source": [
    "# Create 4 bins to place average number of crime\n",
    "bins = [40, 50, 70, 80, 90]\n",
    "\n",
    "# Create labels for the bins\n",
    "group_bins = ['Cold', 'Cool', 'Warm', 'Hot']\n",
    "\n",
    "# Slice the data and place it into bins\n",
    "bin_slice = pd.cut(monthly_temp_df['Temperature'], bins, labels=group_bins)\n",
    "\n",
    "# Create a new column for the bins\n",
    "monthly_temp_df['Temperature Category'] = bin_slice\n"
   ]
  },
  {
   "cell_type": "code",
   "execution_count": null,
   "metadata": {},
   "outputs": [],
   "source": [
    "monthly_temp_df.boxplot('Crime', by='Temperature Category', figsize=(20,10))"
   ]
  },
  {
   "cell_type": "code",
   "execution_count": null,
   "metadata": {},
   "outputs": [],
   "source": [
    "# Divide the month data into dataframes of their categories\n",
    "cold_df = monthly_temp_df.query('Month == 1 | Month == 2 | Month == 12')\n",
    "cool_df = monthly_temp_df.query('Month == 3 | Month == 4 | Month == 11')\n",
    "warm_df = monthly_temp_df.query('Month == 5 | Month == 9 | Month == 10')\n",
    "hottest_df = monthly_temp_df.query('Month == 6 | Month == 7 | Month == 8')"
   ]
  },
  {
   "cell_type": "markdown",
   "metadata": {},
   "source": [
    "Null Hypothesis:  Climate average temperature does not affect crime level in the city of Silver Spring, Maryland, in any way."
   ]
  },
  {
   "cell_type": "code",
   "execution_count": null,
   "metadata": {},
   "outputs": [],
   "source": [
    "# Perform the ANOVA\n",
    "stats.f_oneway(cold_df['Crime'], cool_df['Crime'], warm_df['Crime'], hottest_df['Crime'])"
   ]
  },
  {
   "cell_type": "markdown",
   "metadata": {},
   "source": [
    "We cannot reject the null hypothesis."
   ]
  },
  {
   "cell_type": "markdown",
   "metadata": {},
   "source": [
    "Therefore based on the data we had in this overall group, we can not say that crime was influenced by the climate in Silver Spring, Maryland"
   ]
  },
  {
   "cell_type": "code",
   "execution_count": null,
   "metadata": {},
   "outputs": [],
   "source": [
    "# Paul's code ends here"
   ]
  },
  {
   "cell_type": "code",
   "execution_count": null,
   "metadata": {},
   "outputs": [],
   "source": []
  },
  {
   "cell_type": "markdown",
   "metadata": {},
   "source": [
    "## Crime Against Property/Other"
   ]
  },
  {
   "cell_type": "code",
   "execution_count": null,
   "metadata": {},
   "outputs": [],
   "source": [
    "# Dan's code starts here - Property/Other"
   ]
  },
  {
   "cell_type": "code",
   "execution_count": null,
   "metadata": {},
   "outputs": [],
   "source": [
    "# Separate Crime Against Property from other crimes\n",
    "sspring_property = silverspring_clean_df.loc[(silverspring_clean_df['Crime Main Category'] == 'Crime Against Property')]\n",
    "sspring_property"
   ]
  },
  {
   "cell_type": "code",
   "execution_count": null,
   "metadata": {},
   "outputs": [],
   "source": [
    "# Separate Property Crimes by Year\n",
    "propcrime_2017 = sspring_property.loc[(sspring_property['Year'] == 2017)]\n",
    "propcrime_2018 = sspring_property.loc[(sspring_property['Year'] == 2018)]\n",
    "propcrime_2019 = sspring_property.loc[(sspring_property['Year'] == 2019)]\n",
    "propcrime_2017"
   ]
  },
  {
   "cell_type": "code",
   "execution_count": null,
   "metadata": {},
   "outputs": [],
   "source": [
    "pc2017_data = propcrime_2017['Month'].value_counts()\n",
    "pc2017_data = pd.DataFrame(pc2017_data)\n",
    "pc2017_data = pc2017_data.sort_index()"
   ]
  },
  {
   "cell_type": "code",
   "execution_count": null,
   "metadata": {},
   "outputs": [],
   "source": [
    "pc2017graph, = plt.plot(pc2017_data, color=\"blue\", label=\"2017 Property Crime Data\" )"
   ]
  },
  {
   "cell_type": "code",
   "execution_count": null,
   "metadata": {},
   "outputs": [],
   "source": [
    "pc2018_data = propcrime_2018['Month'].value_counts()\n",
    "pc2018_data = pd.DataFrame(pc2018_data)\n",
    "pc2018_data = pc2018_data.sort_index()"
   ]
  },
  {
   "cell_type": "code",
   "execution_count": null,
   "metadata": {},
   "outputs": [],
   "source": [
    "pc2018graph, = plt.plot(pc2018_data, color=\"blue\", label=\"2018 Property Crime Data\" )"
   ]
  },
  {
   "cell_type": "code",
   "execution_count": null,
   "metadata": {},
   "outputs": [],
   "source": [
    "pc2019_data = propcrime_2019['Month'].value_counts()\n",
    "pc2019_data = pd.DataFrame(pc2019_data)\n",
    "pc2019_data = pc2019_data.sort_index()"
   ]
  },
  {
   "cell_type": "code",
   "execution_count": null,
   "metadata": {},
   "outputs": [],
   "source": [
    "pc2019graph, = plt.plot(pc2019_data, color=\"blue\", label=\"2019 Property Crime Data\" )"
   ]
  },
  {
   "cell_type": "code",
   "execution_count": null,
   "metadata": {},
   "outputs": [],
   "source": [
    "md_temps = climate_df['Temp']\n",
    "months = ['January', 'February', 'March', 'April', 'May', 'June', 'July', 'August', 'September', 'October', 'November', 'December']\n"
   ]
  },
  {
   "cell_type": "code",
   "execution_count": null,
   "metadata": {},
   "outputs": [],
   "source": [
    "pc2019_compiled_data = pc2019_data.rename(columns={\"Month\": \"2019 Property Crime Count\"})\n",
    "pc2018_compiled_data = pc2018_data.rename(columns={\"Month\": \"2018 Property Crime Count\"})\n",
    "pc2017_compiled_data = pc2017_data.rename(columns={\"Month\": \"2017 Property Crime Count\"})\n",
    "\n",
    "pc2019_compiled_data.reset_index(drop=True, inplace=True)\n",
    "pc2018_compiled_data.reset_index(drop=True, inplace=True)\n",
    "pc2017_compiled_data.reset_index(drop=True, inplace=True)\n",
    "\n",
    "pc2019_compiled_data['Temp'] = md_temps\n",
    "pc2018_compiled_data['Temp'] = md_temps\n",
    "pc2017_compiled_data['Temp'] = md_temps\n",
    "\n",
    "pc2019_compiled_data['Month'] = months\n",
    "pc2018_compiled_data['Month'] = months\n",
    "pc2017_compiled_data['Month'] = months\n",
    "\n",
    "pc2019_compiled_data['Year'] = 2019\n",
    "pc2018_compiled_data['Year'] = 2018\n",
    "pc2017_compiled_data['Year'] = 2017\n",
    "\n",
    "pcMerged_data = pd.merge(pc2017_compiled_data, pc2018_compiled_data, on='Month', how='inner')\n",
    "pcMerged_data = pd.merge(pcMerged_data, pc2019_compiled_data, on='Month', how='inner')\n",
    "\n",
    "pcMerged_data.drop(columns = ['Temp_x', 'Temp_y'], inplace=True)\n",
    "pcMerged_data\n"
   ]
  },
  {
   "cell_type": "code",
   "execution_count": null,
   "metadata": {},
   "outputs": [],
   "source": [
    "# Create a New Dataframe for number of crimes in each month, indexed by year & month\n",
    "propMonthYeargroup = sspring_property.groupby(['Year','Month'])\n",
    "prop_crime_count_mmyy = propMonthYeargroup['Month'].count()\n",
    "prop_crime_count_mmyy_data = pd.DataFrame({'Number of Crime Incidence':prop_crime_count_mmyy})\n",
    "\n",
    "# Reset the index to allow further data anaylysis\n",
    "prop_crime_count_mmyy_data = prop_crime_count_mmyy_data.reset_index(drop=False)\n",
    "prop_crime_count_mmyy_data"
   ]
  },
  {
   "cell_type": "code",
   "execution_count": null,
   "metadata": {},
   "outputs": [],
   "source": [
    "avgcrimepropgroup = prop_crime_count_mmyy_data.groupby('Month')\n",
    "avgcrime_prop = avgcrimepropgroup['Number of Crime Incidence'].mean()\n",
    "\n",
    "propcrime_avg_ct_df = pd.DataFrame({'Average Number of Crimes (Property)':avgcrime_prop})\n",
    "propcrime_avg_ct_df = propcrime_avg_ct_df.reset_index(drop=False)\n",
    "propcrime_avg_ct_df.drop(columns= 'Month')\n",
    "propcrime_avg_ct_df['Month'] = months\n",
    "propcrime_avg_ct_df['Temp'] = climate_df['Temp']\n",
    "propcrime_avg_ct_df"
   ]
  },
  {
   "cell_type": "code",
   "execution_count": null,
   "metadata": {},
   "outputs": [],
   "source": []
  },
  {
   "cell_type": "code",
   "execution_count": null,
   "metadata": {},
   "outputs": [],
   "source": [
    "# Perform regression to look at average of crime and temperature\n",
    "x_avgprop = propcrime_avg_ct_df['Temp']\n",
    "y_avgprop = propcrime_avg_ct_df['Average Number of Crimes (Property)'].astype(int)\n",
    "\n",
    "plt.scatter(x_avgprop, y_avgprop, marker='+')\n",
    "\n",
    "# Labels\n",
    "plt.xlabel('Temperature (F)')\n",
    "plt.ylabel('Average Number of Crimes')\n",
    "plt.title('Average Number of Crime Agaist Property VS Temperature (F)', fontsize=12, fontweight='bold')\n",
    "# plt.legend(loc=\"best\")\n",
    "\n",
    "# Add the linear regression equation and line to plot\n",
    "(slope, intercept, rvalue, pvalue, stderr) = linregress(x_avgprop, y_avgprop)\n",
    "regress_values = x_avgprop * slope + intercept\n",
    "line_eq = \"y = \" + str(round(slope,2)) + \"x + \" + str(round(intercept,2))\n",
    "plt.plot(x_avgprop,regress_values,\"r-\")\n",
    "plt.annotate(line_eq,(60,600),fontsize=15,color=\"red\")\n",
    "print(f\"The r value is: {rvalue}\")\n",
    "print(f\"The r-squared is: {rvalue**2}\")\n",
    "\n",
    "plt.show()"
   ]
  },
  {
   "cell_type": "code",
   "execution_count": null,
   "metadata": {},
   "outputs": [],
   "source": [
    "# Dan's code ends here"
   ]
  },
  {
   "cell_type": "markdown",
   "metadata": {},
   "source": [
    "## Crime Against Person"
   ]
  },
  {
   "cell_type": "code",
   "execution_count": null,
   "metadata": {},
   "outputs": [],
   "source": [
    "# Cynthia's code starts here - Person"
   ]
  },
  {
   "cell_type": "markdown",
   "metadata": {},
   "source": [
    "Sub-Hypothesis: We believe that as temperature decreases to a certain point during the winter, the crime against person will likely decreases. This is because people are less likely to come out during the winter time when it gets too cold, making crime occur less.\n"
   ]
  },
  {
   "cell_type": "code",
   "execution_count": null,
   "metadata": {},
   "outputs": [],
   "source": [
    "# Create Crime Against Person df\n",
    "person_crime_df = silverspring_clean_df.loc[(silverspring_clean_df['Crime Main Category'] == 'Crime Against Person'), :]\n",
    "person_crime_df"
   ]
  },
  {
   "cell_type": "code",
   "execution_count": null,
   "metadata": {},
   "outputs": [],
   "source": [
    "# Explore the types of crimes against person\n",
    "person_crime_df['Crime Sub Category'].value_counts()"
   ]
  },
  {
   "cell_type": "code",
   "execution_count": null,
   "metadata": {},
   "outputs": [],
   "source": [
    "# Using Groupby to get the # of crime incidence for each month\n",
    "personmonthgroup = person_crime_df.groupby('Month')\n",
    "personcrime_count_month = personmonthgroup['Month'].count()\n",
    "personcrime_count_month\n",
    "\n",
    "# Turn count of crime into a dataframe\n",
    "personcrime_df = pd.DataFrame({'Number of Crime Incidence':personcrime_count_month})\n",
    "\n",
    "# Drop the index to get month column, add month name \n",
    "months = ['January', 'February', 'March', 'April', 'May', 'June', 'July', 'August', 'September', 'October', 'November', 'December']\n",
    "personcrime_index_df = personcrime_df.reset_index(drop=True)\n",
    "personcrime_index_df['Month'] = months\n",
    "personcrime_index_df = personcrime_index_df[['Month','Number of Crime Incidence']]\n",
    "personcrime_index_df"
   ]
  },
  {
   "cell_type": "code",
   "execution_count": null,
   "metadata": {},
   "outputs": [],
   "source": [
    "# Visualize the incidence of Crime Against Person for each month from 2017-2020\n",
    "x_all = personcrime_index_df['Month']\n",
    "y_all = personcrime_index_df['Number of Crime Incidence']\n",
    "\n",
    "plt.plot(x_all, y_all, marker='o')\n",
    "plt.xticks(rotation=45)\n",
    "\n",
    "plt.xlabel('Month')\n",
    "plt.ylabel('Number of Crime Incidence')\n",
    "plt.title('Numbers of Crimes Against Person for each Month from 2017-2020')\n",
    "\n",
    "plt.show()"
   ]
  },
  {
   "cell_type": "code",
   "execution_count": null,
   "metadata": {},
   "outputs": [],
   "source": [
    "# Create different df for different year (2017-2019)\n",
    "\n",
    "person_crime_2017df = person_crime_df.loc[person_crime_df['Year'] == 2017]\n",
    "person_crime_2018df = person_crime_df.loc[person_crime_df['Year'] == 2018]\n",
    "person_crime_2019df = person_crime_df.loc[person_crime_df['Year'] == 2019]"
   ]
  },
  {
   "cell_type": "code",
   "execution_count": null,
   "metadata": {},
   "outputs": [],
   "source": [
    "# Number of crime in each month for 2017\n",
    "\n",
    "personmonth2017 = person_crime_2017df.groupby('Month')\n",
    "personcrime_ct_2017 = personmonth2017['Month'].count()\n",
    "\n",
    "# Turn count of crime into a dataframe\n",
    "personcrime_ct_2017df = pd.DataFrame({'Number of Crime Incidence':personcrime_ct_2017})\n",
    "\n",
    "# Drop the index to get month column, add month name \n",
    "personcrime_ct_2017df = personcrime_ct_2017df.reset_index(drop=True)\n",
    "personcrime_ct_2017df['Month'] = months\n",
    "personcrime_ct_2017df = personcrime_ct_2017df[['Month','Number of Crime Incidence']]\n",
    "personcrime_ct_2017df"
   ]
  },
  {
   "cell_type": "code",
   "execution_count": null,
   "metadata": {},
   "outputs": [],
   "source": [
    "# Visualize the incidence of Crime Against Person for each month from 2017\n",
    "x_2017 = personcrime_ct_2017df['Month']\n",
    "y_2017 = personcrime_ct_2017df['Number of Crime Incidence']\n",
    "\n",
    "handle17, = plt.plot(x_2017, y_2017, marker='x')\n",
    "plt.xticks(rotation=45)\n",
    "\n",
    "plt.xlabel('Month')\n",
    "plt.ylabel('Number of Crime Incidence')\n",
    "plt.title('Numbers of Crimes Against Person for each Month in 2017')\n",
    "\n",
    "plt.show()"
   ]
  },
  {
   "cell_type": "code",
   "execution_count": null,
   "metadata": {},
   "outputs": [],
   "source": [
    "# Number of crime in each month for 2018\n",
    "\n",
    "personmonth2018 = person_crime_2018df.groupby('Month')\n",
    "personcrime_ct_2018 = personmonth2018['Month'].count()\n",
    "\n",
    "# Turn count of crime into a dataframe\n",
    "personcrime_ct_2018df = pd.DataFrame({'Number of Crime Incidence':personcrime_ct_2018})\n",
    "\n",
    "# Drop the index to get month column, add month name \n",
    "personcrime_ct_2018df = personcrime_ct_2018df.reset_index(drop=True)\n",
    "personcrime_ct_2018df['Month'] = months\n",
    "personcrime_ct_2018df = personcrime_ct_2018df[['Month','Number of Crime Incidence']]\n",
    "personcrime_ct_2018df"
   ]
  },
  {
   "cell_type": "code",
   "execution_count": null,
   "metadata": {},
   "outputs": [],
   "source": [
    "# Visualize the incidence of Crime Against Person for each month from 2018\n",
    "x_2018 = personcrime_ct_2018df['Month']\n",
    "y_2018 = personcrime_ct_2018df['Number of Crime Incidence']\n",
    "\n",
    "handle18, = plt.plot(x_2018, y_2018, marker='x')\n",
    "plt.xticks(rotation=45)\n",
    "\n",
    "plt.xlabel('Month')\n",
    "plt.ylabel('Number of Crime Incidence')\n",
    "plt.title('Numbers of Crimes Against Person for each Month in 2018')\n",
    "\n",
    "plt.show()"
   ]
  },
  {
   "cell_type": "code",
   "execution_count": null,
   "metadata": {},
   "outputs": [],
   "source": [
    "# Number of crime in each month for 2019\n",
    "\n",
    "personmonth2019 = person_crime_2019df.groupby('Month')\n",
    "personcrime_ct_2019 = personmonth2019['Month'].count()\n",
    "\n",
    "# Turn count of crime into a dataframe\n",
    "personcrime_ct_2019df = pd.DataFrame({'Number of Crime Incidence':personcrime_ct_2019})\n",
    "\n",
    "# Drop the index to get month column, add month name \n",
    "personcrime_ct_2019df = personcrime_ct_2019df.reset_index(drop=True)\n",
    "personcrime_ct_2019df['Month'] = months\n",
    "personcrime_ct_2019df = personcrime_ct_2019df[['Month','Number of Crime Incidence']]\n",
    "personcrime_ct_2019df"
   ]
  },
  {
   "cell_type": "code",
   "execution_count": null,
   "metadata": {},
   "outputs": [],
   "source": [
    "# Visualize the incidence of Crime Against Person for each month from 2019\n",
    "x_2019 = personcrime_ct_2019df['Month']\n",
    "y_2019 = personcrime_ct_2019df['Number of Crime Incidence']\n",
    "\n",
    "handle19, = plt.plot(x_2019, y_2019, marker='x')\n",
    "plt.xticks(rotation=45)\n",
    "\n",
    "plt.xlabel('Month')\n",
    "plt.ylabel('Number of Crime Incidence')\n",
    "plt.title('Numbers of Crimes Against Person for each Month in 2019')\n",
    "\n",
    "plt.show()"
   ]
  },
  {
   "cell_type": "code",
   "execution_count": null,
   "metadata": {
    "scrolled": true
   },
   "outputs": [],
   "source": [
    "# Visualize the incidence of Crime Agasint person for all three years\n",
    "plt.figure(figsize=(12,4))\n",
    "# Graph from 2017\n",
    "handle17, = plt.plot(x_2017, y_2017, marker='x', label='2017')\n",
    "# Graph from 2018\n",
    "handle18, = plt.plot(x_2018, y_2018, marker='x', label='2018')\n",
    "# Graph from 2019\n",
    "handle19, = plt.plot(x_2019, y_2019, marker='x', label='2019')\n",
    "\n",
    "\n",
    "plt.xticks(rotation=45)\n",
    "\n",
    "plt.xlabel('Month')\n",
    "plt.ylabel('Number of Crime Incidence')\n",
    "plt.title('Numbers of Crimes Against Person for each Month in during 2017-2019', fontsize=12, fontweight='bold')\n",
    "\n",
    "plt.legend(loc=\"best\")\n",
    "plt.show()"
   ]
  },
  {
   "cell_type": "markdown",
   "metadata": {},
   "source": [
    "Observation: Overall, there seems to be lower indcidence of crime agaist person overall in January-February, and higher crime incidence in September."
   ]
  },
  {
   "cell_type": "code",
   "execution_count": null,
   "metadata": {},
   "outputs": [],
   "source": [
    "# Dataframe of Number of Crime incidence for all the years\n",
    "personcrime_ct_split_df =  pd.DataFrame({'2017 Count':personcrime_ct_2017,\n",
    "                                        '2018 Count': personcrime_ct_2018,\n",
    "                                        '2019 Count': personcrime_ct_2019})\n",
    "personcrime_ct_split_df"
   ]
  },
  {
   "cell_type": "code",
   "execution_count": null,
   "metadata": {
    "scrolled": false
   },
   "outputs": [],
   "source": [
    "# Adding climate and crime analysis\n",
    "personcrime_climate_df = pd.merge(personcrime_ct_split_df, climate_df, how='left', on='Month')\n",
    "# Removing Month number column\n",
    "del personcrime_climate_df['Month']\n",
    "# Rename and re-organize the columns in the dataframe\n",
    "personcrime_climate_df = personcrime_climate_df.rename(columns={\n",
    "    'MonthName': 'Month', 'Temp': 'Temperature (F)'\n",
    "})\n",
    "personcrime_climate_df = personcrime_climate_df[['Month','2017 Count', '2018 Count', '2019 Count', 'Temperature (F)']]\n",
    "personcrime_climate_df"
   ]
  },
  {
   "cell_type": "markdown",
   "metadata": {},
   "source": [
    "Statistical Analysis"
   ]
  },
  {
   "cell_type": "code",
   "execution_count": null,
   "metadata": {},
   "outputs": [],
   "source": [
    "# Create a New Dataframe for number of crimes in each month, indexed by year & month\n",
    "personmonthyeargroup = person_crime_df.groupby(['Year','Month'])\n",
    "personcrime_count_mmyy = personmonthyeargroup['Month'].count()\n",
    "personcrime_count_mmyy_df = pd.DataFrame({'Number of Crime Incidence':personcrime_count_mmyy})\n",
    "personcrime_count_mmyy_df"
   ]
  },
  {
   "cell_type": "code",
   "execution_count": null,
   "metadata": {},
   "outputs": [],
   "source": [
    "# Reset the index to allow further data anaylysis\n",
    "personcrime_count_mmyy_index_df = personcrime_count_mmyy_df.reset_index(drop=False)\n",
    "personcrime_count_mmyy_index_df"
   ]
  },
  {
   "cell_type": "code",
   "execution_count": null,
   "metadata": {},
   "outputs": [],
   "source": [
    "# Taking the average of the amount of crime for each month from 2017-2019\n",
    "avgcrimepersongroup = personcrime_count_mmyy_index_df.groupby('Month')\n",
    "avgcrime_person = avgcrimepersongroup['Number of Crime Incidence'].mean()\n",
    "\n",
    "personcrime_avg_ct_df = pd.DataFrame({'Average Number of Crime (Person)':avgcrime_person})\n",
    "personcrime_avg_ct_df = personcrime_avg_ct_df.reset_index(drop=False)\n",
    "personcrime_avg_ct_df"
   ]
  },
  {
   "cell_type": "code",
   "execution_count": null,
   "metadata": {},
   "outputs": [],
   "source": [
    "# Merge the average of crime df with climate df\n",
    "avgcrime_person_temp_df = pd.merge(personcrime_avg_ct_df, climate_df, how='inner', on='Month')\n",
    "avgcrime_person_temp_df"
   ]
  },
  {
   "cell_type": "code",
   "execution_count": null,
   "metadata": {},
   "outputs": [],
   "source": [
    "# Removing Month number column\n",
    "del avgcrime_person_temp_df['Month']"
   ]
  },
  {
   "cell_type": "code",
   "execution_count": null,
   "metadata": {},
   "outputs": [],
   "source": [
    "# Rename and re-organize the columns in the dataframe\n",
    "avgcrime_person_temp_df = avgcrime_person_temp_df.rename(columns={\n",
    "    'MonthName': 'Month', 'Temp': 'Temperature (F)'\n",
    "})\n",
    "avgcrime_person_temp_df = avgcrime_person_temp_df[['Month','Average Number of Crime (Person)', 'Temperature (F)']]\n",
    "\n",
    "avgcrime_person_temp_df"
   ]
  },
  {
   "cell_type": "code",
   "execution_count": null,
   "metadata": {
    "scrolled": true
   },
   "outputs": [],
   "source": [
    "# Perform regression to look at average of crime and temperature\n",
    "plt.figure(figsize=(10,4))\n",
    "x_avgperson = avgcrime_person_temp_df['Temperature (F)']\n",
    "y_avgperson = avgcrime_person_temp_df['Average Number of Crime (Person)'].astype(int)\n",
    "\n",
    "plt.scatter(x_avgperson, y_avgperson, marker='+')\n",
    "\n",
    "# Labels\n",
    "plt.xlabel('Temperature (F)')\n",
    "plt.ylabel('Average Number of Crime')\n",
    "plt.title('Average Number of Crime Agaist Person VS Temperature (F)', fontsize=12, fontweight='bold')\n",
    "# plt.legend(loc=\"best\")\n",
    "\n",
    "# Add the linear regression equation and line to plot\n",
    "(slope, intercept, rvalue, pvalue, stderr) = linregress(x_avgperson, y_avgperson)\n",
    "regress_values = x_avgperson * slope + intercept\n",
    "line_eq = \"y = \" + str(round(slope,2)) + \"x + \" + str(round(intercept,2))\n",
    "plt.plot(x_avgperson,regress_values,\"r-\")\n",
    "plt.annotate(line_eq,(60,120),fontsize=15,color=\"red\")\n",
    "print(f\"The r value is: {rvalue}\")\n",
    "print(f\"The r-squared is: {rvalue**2}\")\n",
    "\n",
    "plt.show()"
   ]
  },
  {
   "cell_type": "markdown",
   "metadata": {},
   "source": [
    "Our r value indicates that there is a moderate positive correlation between the temperature and the average number of crime agaisnt person. Our r squared is very low and suggests that the predictive power of our regression is not very reliable."
   ]
  },
  {
   "cell_type": "code",
   "execution_count": null,
   "metadata": {},
   "outputs": [],
   "source": [
    "## Further analysis on the temperature and the incidence of crime\n",
    "# Sort the df by temperature to get some insight\n",
    "avgcrime_person_temp_df.sort_values('Temperature (F)', ascending=False)"
   ]
  },
  {
   "cell_type": "code",
   "execution_count": null,
   "metadata": {
    "scrolled": true
   },
   "outputs": [],
   "source": [
    "# Create 4 bins to place average number of crime\n",
    "bins = [40, 50, 67, 80, 90]\n",
    "\n",
    "# Create labels for the bins\n",
    "group_bins = ['Cold', 'Cool', 'Warm', 'Hot']\n",
    "\n",
    "# Slice the data and place it into bins\n",
    "bin_slice = pd.cut(avgcrime_person_temp_df['Temperature (F)'], bins, labels=group_bins)\n",
    "\n",
    "# Create a new column where the data shows the bins they belong\n",
    "avgcrime_person_temp_df['Temperature Category'] = bin_slice\n",
    "avgcrime_person_temp_df"
   ]
  },
  {
   "cell_type": "code",
   "execution_count": null,
   "metadata": {},
   "outputs": [],
   "source": [
    "# Group the data according to the temperature category\n",
    "temp_group = avgcrime_person_temp_df.groupby('Temperature Category')\n",
    "\n",
    "# Get the average # of crime for each temperature\n",
    "tempgroup_avg_df = temp_group[['Average Number of Crime (Person)']].mean()\n",
    "\n",
    "# Formating the average number of crime to be whole number\n",
    "tempgroup_avg_df.astype(int)"
   ]
  },
  {
   "cell_type": "markdown",
   "metadata": {},
   "source": [
    "The incidence of crime against person seems to be lower when the tempearture is colder, and highest when the temperature is warm.\n",
    "\n",
    "Next, we perform hypothesis testing to see if any of these temperature category is statistically significant..."
   ]
  },
  {
   "cell_type": "markdown",
   "metadata": {},
   "source": [
    "# Hypothesis attempt #1 - NOT STATISTICALLY SIGNIFICANT"
   ]
  },
  {
   "cell_type": "code",
   "execution_count": null,
   "metadata": {},
   "outputs": [],
   "source": [
    "## Hypothesis Test\n",
    "# Setting up each group using the data from 2017, 2018, 2019\n",
    "cold_dec = personcrime_count_mmyy_index_df[personcrime_count_mmyy_index_df['Month'] == 12]['Number of Crime Incidence']\n",
    "cold_jan = personcrime_count_mmyy_index_df[personcrime_count_mmyy_index_df['Month'] == 1]['Number of Crime Incidence']\n",
    "cold_feb = personcrime_count_mmyy_index_df[personcrime_count_mmyy_index_df['Month'] == 2]['Number of Crime Incidence']\n",
    "\n",
    "cool_nov = personcrime_count_mmyy_index_df[personcrime_count_mmyy_index_df['Month'] == 11]['Number of Crime Incidence']\n",
    "cool_mar = personcrime_count_mmyy_index_df[personcrime_count_mmyy_index_df['Month'] == 3]['Number of Crime Incidence']\n",
    "cool_apr = personcrime_count_mmyy_index_df[personcrime_count_mmyy_index_df['Month'] == 4]['Number of Crime Incidence']\n",
    "\n",
    "warm_may = personcrime_count_mmyy_index_df[personcrime_count_mmyy_index_df['Month'] == 5]['Number of Crime Incidence']\n",
    "warm_sep = personcrime_count_mmyy_index_df[personcrime_count_mmyy_index_df['Month'] == 9]['Number of Crime Incidence']\n",
    "warm_oct = personcrime_count_mmyy_index_df[personcrime_count_mmyy_index_df['Month'] == 10]['Number of Crime Incidence']\n",
    "\n",
    "\n",
    "hot_jun = personcrime_count_mmyy_index_df[personcrime_count_mmyy_index_df['Month'] == 6]['Number of Crime Incidence']\n",
    "hot_jul = personcrime_count_mmyy_index_df[personcrime_count_mmyy_index_df['Month'] == 7]['Number of Crime Incidence']\n",
    "hot_aug = personcrime_count_mmyy_index_df[personcrime_count_mmyy_index_df['Month'] == 8]['Number of Crime Incidence']"
   ]
  },
  {
   "cell_type": "code",
   "execution_count": null,
   "metadata": {},
   "outputs": [],
   "source": [
    "# Perform the ANOVA\n",
    "stats.f_oneway(cold_dec, cold_jan, cold_feb, cool_nov, cool_mar, cool_apr, warm_may, warm_sep, warm_oct, hot_jun, hot_jul, hot_aug)"
   ]
  },
  {
   "cell_type": "markdown",
   "metadata": {},
   "source": [
    "Dom's comment:\n",
    "I was saying you'd have four groups (hot, cold, warm, cool) and that the list for each group would have nine values in it.\n",
    "The way you did it is also fine, but it's using months instead of the hot, cold, warm, and cool categories. (Even though you're appending those names to the variables, they don't really play a role in your current analysis.)"
   ]
  },
  {
   "cell_type": "markdown",
   "metadata": {},
   "source": [
    "Statistical Conclusion: The p-value is > 0.05 suggesting that the difference in number of crime incidence against person for each temperature category is not statistically significant."
   ]
  },
  {
   "cell_type": "markdown",
   "metadata": {},
   "source": [
    "# Hypothesis attempt #2 -- STATISTICALLY SIGNIFICANT"
   ]
  },
  {
   "cell_type": "code",
   "execution_count": null,
   "metadata": {},
   "outputs": [],
   "source": [
    "## Hypothesis Test\n",
    "# Setting up each temparture category group using the data from 2017, 2018 & 2019\n",
    "cold = personcrime_count_mmyy_index_df[((personcrime_count_mmyy_index_df['Year'] == 2017) & (personcrime_count_mmyy_index_df['Month'] == 12)) | \n",
    "                                       ((personcrime_count_mmyy_index_df['Year'] == 2018) & (personcrime_count_mmyy_index_df['Month'] == 12)) |\n",
    "                                       ((personcrime_count_mmyy_index_df['Year'] == 2019) & (personcrime_count_mmyy_index_df['Month'] == 12)) |\n",
    "                                       ((personcrime_count_mmyy_index_df['Year'] == 2017) & (personcrime_count_mmyy_index_df['Month'] == 1)) | \n",
    "                                       ((personcrime_count_mmyy_index_df['Year'] == 2018) & (personcrime_count_mmyy_index_df['Month'] == 1)) |\n",
    "                                       ((personcrime_count_mmyy_index_df['Year'] == 2019) & (personcrime_count_mmyy_index_df['Month'] == 1)) |\n",
    "                                       ((personcrime_count_mmyy_index_df['Year'] == 2017) & (personcrime_count_mmyy_index_df['Month'] == 2)) | \n",
    "                                       ((personcrime_count_mmyy_index_df['Year'] == 2018) & (personcrime_count_mmyy_index_df['Month'] == 2)) |\n",
    "                                       ((personcrime_count_mmyy_index_df['Year'] == 2019) & (personcrime_count_mmyy_index_df['Month'] == 2))]['Number of Crime Incidence']\n",
    "                                        \n",
    "cool = personcrime_count_mmyy_index_df[((personcrime_count_mmyy_index_df['Year'] == 2017) & (personcrime_count_mmyy_index_df['Month'] == 11)) | \n",
    "                                       ((personcrime_count_mmyy_index_df['Year'] == 2018) & (personcrime_count_mmyy_index_df['Month'] == 11)) |\n",
    "                                       ((personcrime_count_mmyy_index_df['Year'] == 2019) & (personcrime_count_mmyy_index_df['Month'] == 11)) |\n",
    "                                       ((personcrime_count_mmyy_index_df['Year'] == 2017) & (personcrime_count_mmyy_index_df['Month'] == 3)) | \n",
    "                                       ((personcrime_count_mmyy_index_df['Year'] == 2018) & (personcrime_count_mmyy_index_df['Month'] == 3)) |\n",
    "                                       ((personcrime_count_mmyy_index_df['Year'] == 2019) & (personcrime_count_mmyy_index_df['Month'] == 3)) |\n",
    "                                       ((personcrime_count_mmyy_index_df['Year'] == 2017) & (personcrime_count_mmyy_index_df['Month'] == 4)) | \n",
    "                                       ((personcrime_count_mmyy_index_df['Year'] == 2018) & (personcrime_count_mmyy_index_df['Month'] == 4)) |\n",
    "                                       ((personcrime_count_mmyy_index_df['Year'] == 2019) & (personcrime_count_mmyy_index_df['Month'] == 4))]['Number of Crime Incidence']                                   \n",
    "\n",
    "warm = personcrime_count_mmyy_index_df[((personcrime_count_mmyy_index_df['Year'] == 2017) & (personcrime_count_mmyy_index_df['Month'] == 5)) | \n",
    "                                       ((personcrime_count_mmyy_index_df['Year'] == 2018) & (personcrime_count_mmyy_index_df['Month'] == 5)) |\n",
    "                                       ((personcrime_count_mmyy_index_df['Year'] == 2019) & (personcrime_count_mmyy_index_df['Month'] == 5)) |\n",
    "                                       ((personcrime_count_mmyy_index_df['Year'] == 2017) & (personcrime_count_mmyy_index_df['Month'] == 9)) | \n",
    "                                       ((personcrime_count_mmyy_index_df['Year'] == 2018) & (personcrime_count_mmyy_index_df['Month'] == 9)) |\n",
    "                                       ((personcrime_count_mmyy_index_df['Year'] == 2019) & (personcrime_count_mmyy_index_df['Month'] == 9)) |\n",
    "                                       ((personcrime_count_mmyy_index_df['Year'] == 2017) & (personcrime_count_mmyy_index_df['Month'] == 10)) | \n",
    "                                       ((personcrime_count_mmyy_index_df['Year'] == 2018) & (personcrime_count_mmyy_index_df['Month'] == 10)) |\n",
    "                                       ((personcrime_count_mmyy_index_df['Year'] == 2019) & (personcrime_count_mmyy_index_df['Month'] == 10))]['Number of Crime Incidence']  \n",
    "\n",
    "hot = personcrime_count_mmyy_index_df[((personcrime_count_mmyy_index_df['Year'] == 2017) & (personcrime_count_mmyy_index_df['Month'] == 6)) | \n",
    "                                       ((personcrime_count_mmyy_index_df['Year'] == 2018) & (personcrime_count_mmyy_index_df['Month'] == 6)) |\n",
    "                                       ((personcrime_count_mmyy_index_df['Year'] == 2019) & (personcrime_count_mmyy_index_df['Month'] == 6)) |\n",
    "                                       ((personcrime_count_mmyy_index_df['Year'] == 2017) & (personcrime_count_mmyy_index_df['Month'] == 7)) | \n",
    "                                       ((personcrime_count_mmyy_index_df['Year'] == 2018) & (personcrime_count_mmyy_index_df['Month'] == 7)) |\n",
    "                                       ((personcrime_count_mmyy_index_df['Year'] == 2019) & (personcrime_count_mmyy_index_df['Month'] == 7)) |\n",
    "                                       ((personcrime_count_mmyy_index_df['Year'] == 2017) & (personcrime_count_mmyy_index_df['Month'] == 8)) | \n",
    "                                       ((personcrime_count_mmyy_index_df['Year'] == 2018) & (personcrime_count_mmyy_index_df['Month'] == 8)) |\n",
    "                                       ((personcrime_count_mmyy_index_df['Year'] == 2019) & (personcrime_count_mmyy_index_df['Month'] == 8))]['Number of Crime Incidence']"
   ]
  },
  {
   "cell_type": "code",
   "execution_count": null,
   "metadata": {},
   "outputs": [],
   "source": [
    "# Perform the ANOVA test\n",
    "stats.f_oneway(cold, cool, warm, hot)"
   ]
  },
  {
   "cell_type": "markdown",
   "metadata": {},
   "source": [
    "Statistical Conclusion: The p-value is < 0.05 suggesting that the difference in the number of crime against person for each temperature category is statistically significant. The weather temperature seems to be a factor in the number of crime against person in Silver Spring, Maryland.\n",
    "\n",
    "We acknowledge that the limitation of not having the real temperature data for Silver Spring, MD during 2017-2019 essentially negates the validity of our statistically significant result. However, if we are to perform the same analysis using the real tempearture data, we would expect our statistically significant results to be more valid."
   ]
  },
  {
   "cell_type": "code",
   "execution_count": null,
   "metadata": {},
   "outputs": [],
   "source": [
    "# Cynthia's code ends here"
   ]
  },
  {
   "cell_type": "markdown",
   "metadata": {},
   "source": [
    "## Crime Against Society"
   ]
  },
  {
   "cell_type": "code",
   "execution_count": null,
   "metadata": {},
   "outputs": [],
   "source": [
    "# Rose's code starts here - Society"
   ]
  },
  {
   "cell_type": "code",
   "execution_count": null,
   "metadata": {},
   "outputs": [],
   "source": [
    "#Society crimes df\n",
    "scrime_df = silverspring_clean_df.loc[(silverspring_clean_df['Crime Main Category'] == 'Crime Against Society'), :]\n",
    "scrime_df"
   ]
  },
  {
   "cell_type": "code",
   "execution_count": null,
   "metadata": {},
   "outputs": [],
   "source": [
    "#crime per month\n",
    "society_month = scrime_df.groupby(\"Month\")\n",
    "society_month_count = society_month[\"Month\"].count()\n",
    "society_month_count\n",
    "\n",
    "#df\n",
    "society_df = pd.DataFrame({\"Number of Crime Incidence\":society_month_count})\n",
    "\n",
    "months = [\"January\", \"February\", \"March\", \"April\", \"May\", \"June\", \"July\", \"August\", \"September\", \"October\", \"November\", \"December\"]\n",
    "scrime_index_df = society_df.reset_index(drop=True)\n",
    "scrime_index_df[\"Month\"] = months\n",
    "scrime_index_df = scrime_index_df[[\"Month\",\"Number of Crime Incidence\"]]\n",
    "scrime_index_df"
   ]
  },
  {
   "cell_type": "code",
   "execution_count": null,
   "metadata": {},
   "outputs": [],
   "source": [
    "#graph\n",
    "x_all = scrime_index_df[\"Month\"]\n",
    "y_all = scrime_index_df[\"Number of Crime Incidence\"]\n",
    "\n",
    "\n",
    "plt.plot(x_all, y_all, marker='o')\n",
    "plt.xticks(rotation=45)\n",
    "\n",
    "plt.xlabel(\"Month\")\n",
    "plt.ylabel(\"Number of Crime Incidence\")\n",
    "plt.title(\"Crimes Against Society 2017-2020\")\n",
    "\n",
    "plt.show()"
   ]
  },
  {
   "cell_type": "code",
   "execution_count": null,
   "metadata": {},
   "outputs": [],
   "source": [
    "#df for each year\n",
    "scrime_2017df = scrime_df.loc[scrime_df[\"Year\"] == 2017]\n",
    "scrime_2018df = scrime_df.loc[scrime_df[\"Year\"] == 2018]\n",
    "scrime_2019df = scrime_df.loc[scrime_df[\"Year\"] == 2019]"
   ]
  },
  {
   "cell_type": "code",
   "execution_count": null,
   "metadata": {},
   "outputs": [],
   "source": [
    "#crimes per month 2017\n",
    "scrimemonth2017 = scrime_2017df.groupby(\"Month\")\n",
    "scrime2017count = scrimemonth2017[\"Month\"].count()\n",
    "\n",
    "#2017 df\n",
    "society_2017df = pd.DataFrame({\"Number of Crime Incidence\":scrime2017count})\n",
    "\n",
    "#index\n",
    "society_2017df = society_2017df.reset_index(drop=True)\n",
    "society_2017df[\"Month\"] = months\n",
    "society_2017df = society_2017df[[\"Month\", \"Number of Crime Incidence\"]]\n",
    "society_2017df"
   ]
  },
  {
   "cell_type": "code",
   "execution_count": null,
   "metadata": {},
   "outputs": [],
   "source": [
    "#graph\n",
    "x_2017 = society_2017df[\"Month\"]\n",
    "y_2017 = society_2017df[\"Number of Crime Incidence\"]\n",
    "\n",
    "handle17, = plt.plot(x_2017, y_2017, marker=\"x\")\n",
    "plt.xticks(rotation=45)\n",
    "\n",
    "plt.xlabel(\"Month\")\n",
    "plt.ylabel(\"Number of Crime Incidence\")\n",
    "plt.title(\"Crimes Against Society 2017\")\n",
    "\n",
    "plt.show()"
   ]
  },
  {
   "cell_type": "code",
   "execution_count": null,
   "metadata": {},
   "outputs": [],
   "source": [
    "#crimes per month 2018\n",
    "scrimemonth2018 = scrime_2018df.groupby(\"Month\")\n",
    "scrime2018count = scrimemonth2018[\"Month\"].count()\n",
    "\n",
    "#2018 df\n",
    "society_2018df = pd.DataFrame({\"Number of Crime Incidence\":scrime2018count})\n",
    "\n",
    "#index\n",
    "society_2018df = society_2018df.reset_index(drop=True)\n",
    "society_2018df[\"Month\"] = months\n",
    "society_2018df = society_2018df[[\"Month\", \"Number of Crime Incidence\"]]\n",
    "society_2018df"
   ]
  },
  {
   "cell_type": "code",
   "execution_count": null,
   "metadata": {},
   "outputs": [],
   "source": [
    "#graph\n",
    "x_2018 = society_2018df[\"Month\"]\n",
    "y_2018 = society_2018df[\"Number of Crime Incidence\"]\n",
    "\n",
    "handle18, = plt.plot(x_2018, y_2018, marker=\"x\")\n",
    "plt.xticks(rotation=45)\n",
    "\n",
    "plt.xlabel(\"Month\")\n",
    "plt.ylabel(\"Number of Crime Incidence\")\n",
    "plt.title(\"Crimes Against Society 2018\")\n",
    "\n",
    "plt.show()"
   ]
  },
  {
   "cell_type": "code",
   "execution_count": null,
   "metadata": {},
   "outputs": [],
   "source": [
    "#crimes per month 2019\n",
    "scrimemonth2019 = scrime_2019df.groupby(\"Month\")\n",
    "scrime2019count = scrimemonth2019[\"Month\"].count()\n",
    "\n",
    "#2018 df\n",
    "society_2019df = pd.DataFrame({\"Number of Crime Incidence\":scrime2019count})\n",
    "\n",
    "#index\n",
    "society_2019df = society_2019df.reset_index(drop=True)\n",
    "society_2019df[\"Month\"] = months\n",
    "society_2019df = society_2019df[[\"Month\", \"Number of Crime Incidence\"]]\n",
    "society_2019df"
   ]
  },
  {
   "cell_type": "code",
   "execution_count": null,
   "metadata": {},
   "outputs": [],
   "source": [
    "#graph\n",
    "x_2019 = society_2019df[\"Month\"]\n",
    "y_2019 = society_2019df[\"Number of Crime Incidence\"]\n",
    "\n",
    "handle19, = plt.plot(x_2019, y_2019, marker=\"x\")\n",
    "plt.xticks(rotation=45)\n",
    "\n",
    "plt.xlabel(\"Month\")\n",
    "plt.ylabel(\"Number of Crime Incidence\")\n",
    "plt.title(\"Crimes Against Society 2019\")\n",
    "plt.show()"
   ]
  },
  {
   "cell_type": "code",
   "execution_count": null,
   "metadata": {},
   "outputs": [],
   "source": [
    "#show all 3 figures\n",
    "handle17, = plt.plot(x_2017, y_2017, label=\"2017\")\n",
    "handle18, = plt.plot(x_2018, y_2018, label=\"2017\")\n",
    "handle19, = plt.plot(x_2019, y_2019, label=\"2017\")\n",
    "\n",
    "plt.xticks(rotation=45)\n",
    "\n",
    "plt.xlabel(\"Month\")\n",
    "plt.ylabel(\"Number of Crimes\")\n",
    "plt.title(\"Numbers of Crimes Against Society 2017-2019\", fontsize=12, fontweight=\"bold\")\n",
    "\n",
    "plt.legend(loc=\"best\")\n",
    "plt.show()"
   ]
  },
  {
   "cell_type": "code",
   "execution_count": null,
   "metadata": {},
   "outputs": [],
   "source": [
    "societycrime_split_df = pd.DataFrame({\"2017 Crimes\": scrime2017count,\n",
    "                                      \"2018 Crimes\": scrime2018count,\n",
    "                                      \"2019 Crimes\": scrime2019count})\n",
    "societycrime_split_df"
   ]
  },
  {
   "cell_type": "code",
   "execution_count": null,
   "metadata": {},
   "outputs": [],
   "source": [
    "#merge crime and climate\n",
    "scrime_climate_df = pd.merge(societycrime_split_df, climate_df, how=\"left\", on=\"Month\")\n",
    "del scrime_climate_df[\"Month\"]\n",
    "scrime_climate_df = scrime_climate_df.rename(columns={\n",
    "    \"MonthName\": \"Month\", \"Temp\": \"Temperature (F)\"\n",
    "})\n",
    "\n",
    "scrime_climate_df = scrime_climate_df[[\"Month\", \"2017 Crimes\", \"2018 Crimes\", \"2019 Crimes\", \"Temperature (F)\"]]\n",
    "\n",
    "scrime_climate_df"
   ]
  },
  {
   "cell_type": "code",
   "execution_count": null,
   "metadata": {},
   "outputs": [],
   "source": [
    "societygroup = scrime_df.groupby([\"Year\",\"Month\"])\n",
    "society_month_year = societygroup[\"Month\"].count()\n",
    "s_month_year_df = pd.DataFrame({\"Number of Crime Incidence\":society_month_year})\n",
    "\n",
    "s_month_year_df = s_month_year_df.reset_index(drop=False)\n",
    "s_month_year_df"
   ]
  },
  {
   "cell_type": "code",
   "execution_count": null,
   "metadata": {},
   "outputs": [],
   "source": [
    "#average for each month\n",
    "scrimeavg = s_month_year_df.groupby(\"Month\")\n",
    "societycrimeavg = scrimeavg[\"Number of Crime Incidence\"].mean()\n",
    "\n",
    "scrime_avg_df = pd.DataFrame({\"Average Number of Crime (Society)\": societycrimeavg})\n",
    "scrime_avg_df = scrime_avg_df.reset_index(drop=False)\n",
    "scrime_avg_df"
   ]
  },
  {
   "cell_type": "code",
   "execution_count": null,
   "metadata": {},
   "outputs": [],
   "source": [
    "#merge with climate\n",
    "savg_crime_climate = pd.merge(scrime_avg_df, climate_df, how=\"inner\", on=\"Month\")\n",
    "savg_crime_climate"
   ]
  },
  {
   "cell_type": "code",
   "execution_count": null,
   "metadata": {},
   "outputs": [],
   "source": [
    "del savg_crime_climate[\"Month\"]"
   ]
  },
  {
   "cell_type": "code",
   "execution_count": null,
   "metadata": {},
   "outputs": [],
   "source": [
    "# Rename and re-organize the columns in the dataframe\n",
    "savg_crime_climate = savg_crime_climate.rename(columns={\n",
    "    'MonthName': 'Month', 'Temp': 'Temperature (F)'\n",
    "})\n",
    "savg_crime_climate = savg_crime_climate[['Month','Average Number of Crime (Society)', 'Temperature (F)']]\n",
    "\n",
    "savg_crime_climate"
   ]
  },
  {
   "cell_type": "code",
   "execution_count": null,
   "metadata": {},
   "outputs": [],
   "source": [
    "# Regression\n",
    "x_avgsociety = savg_crime_climate['Temperature (F)']\n",
    "y_avgsociety = savg_crime_climate['Average Number of Crime (Society)'].astype(int)\n",
    "\n",
    "plt.scatter(x_avgsociety, y_avgsociety, marker='+')\n",
    "\n",
    "# Labels\n",
    "plt.xlabel('Temperature (F)')\n",
    "plt.ylabel('Average Number of Crime')\n",
    "plt.title('Average Number of Crime Agaist Society VS Temperature (F)', fontsize=12, fontweight='bold')\n",
    "# plt.legend(loc=\"best\")\n",
    "\n",
    "# Add the linear regression equation and line to plot\n",
    "(slope, intercept, rvalue, pvalue, stderr) = linregress(x_avgsociety, y_avgsociety)\n",
    "regress_values = x_avgsociety * slope + intercept\n",
    "line_eq = \"y = \" + str(round(slope,2)) + \"x + \" + str(round(intercept,2))\n",
    "plt.plot(x_avgsociety,regress_values,\"r-\")\n",
    "plt.annotate(line_eq,(60,500),fontsize=15,color=\"red\")\n",
    "print(f\"The r value is: {rvalue}\")\n",
    "print(f\"The r-squared is: {rvalue**2}\")\n",
    "\n",
    "plt.show()"
   ]
  },
  {
   "cell_type": "code",
   "execution_count": null,
   "metadata": {},
   "outputs": [],
   "source": [
    "# Sort the df by temperature to get some insight\n",
    "savg_crime_climate.sort_values('Temperature (F)', ascending=False)\n",
    "\n",
    "# Create 4 bins to place average number of crime\n",
    "bins = [40, 50, 67, 80, 90]\n",
    "\n",
    "# Create labels for the bins\n",
    "group_bins = ['Cold', 'Cool', 'Warm', 'Hot']\n",
    "\n",
    "# Slice the data and place it into bins\n",
    "bin_slice = pd.cut(savg_crime_climate['Temperature (F)'], bins, labels=group_bins)\n",
    "\n",
    "# Create a new column where the data shows the bins they belong\n",
    "savg_crime_climate['Temperature Category'] = bin_slice\n",
    "savg_crime_climate"
   ]
  },
  {
   "cell_type": "code",
   "execution_count": null,
   "metadata": {},
   "outputs": [],
   "source": [
    "society_temp = savg_crime_climate.groupby(\"Temperature Category\")\n",
    "\n",
    "society_avg_temp = society_temp[[\"Average Number of Crime (Society)\"]].mean()\n",
    "\n",
    "society_avg_temp"
   ]
  },
  {
   "cell_type": "code",
   "execution_count": null,
   "metadata": {},
   "outputs": [],
   "source": []
  },
  {
   "cell_type": "code",
   "execution_count": null,
   "metadata": {},
   "outputs": [],
   "source": []
  },
  {
   "cell_type": "code",
   "execution_count": null,
   "metadata": {},
   "outputs": [],
   "source": []
  },
  {
   "cell_type": "code",
   "execution_count": null,
   "metadata": {},
   "outputs": [],
   "source": []
  },
  {
   "cell_type": "code",
   "execution_count": null,
   "metadata": {},
   "outputs": [],
   "source": [
    "# Rose's code ends here"
   ]
  },
  {
   "cell_type": "code",
   "execution_count": null,
   "metadata": {},
   "outputs": [],
   "source": [
    "# Paul's code starts here - API!!!"
   ]
  },
  {
   "cell_type": "code",
   "execution_count": null,
   "metadata": {},
   "outputs": [],
   "source": [
    "# Paul's code ends here"
   ]
  },
  {
   "cell_type": "code",
   "execution_count": null,
   "metadata": {},
   "outputs": [],
   "source": []
  }
 ],
 "metadata": {
  "kernelspec": {
   "display_name": "Python 3",
   "language": "python",
   "name": "python3"
  },
  "language_info": {
   "codemirror_mode": {
    "name": "ipython",
    "version": 3
   },
   "file_extension": ".py",
   "mimetype": "text/x-python",
   "name": "python",
   "nbconvert_exporter": "python",
   "pygments_lexer": "ipython3",
   "version": "3.6.10"
  }
 },
 "nbformat": 4,
 "nbformat_minor": 4
}
