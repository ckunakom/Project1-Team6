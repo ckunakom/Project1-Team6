{
 "cells": [
  {
   "cell_type": "markdown",
   "metadata": {},
   "source": [
    "Hypothesis: We believe there's a correlation between temperature and the incidence of crime.\n"
   ]
  },
  {
   "cell_type": "code",
   "execution_count": null,
   "metadata": {},
   "outputs": [],
   "source": [
    "# Dependencies\n",
    "import numpy as np\n",
    "import pandas as pd\n",
    "import matplotlib.pyplot as plt\n",
    "import requests"
   ]
  },
  {
   "cell_type": "code",
   "execution_count": null,
   "metadata": {},
   "outputs": [],
   "source": [
    "# Save file path to variable\n",
    "crimeMD_path = \"Crime_MD.csv\"\n",
    "\n",
    "# Read with Pandas\n",
    "crime_df = pd.read_csv(crimeMD_path, low_memory=False)\n",
    "crime_df.head()"
   ]
  },
  {
   "cell_type": "code",
   "execution_count": null,
   "metadata": {},
   "outputs": [],
   "source": [
    "# Pulling out only the columns of interest\n",
    "main_crime_df = crime_df[['Crime Name1', 'Crime Name2', 'Crime Name3', 'City', 'Start_Date_Time', 'Latitude', 'Longitude']]\n",
    "\n",
    "# Dataframe for coordinates of crime scene\n",
    "crime_coordinate_df = crime_df[['Latitude', 'Longitude']]"
   ]
  },
  {
   "cell_type": "code",
   "execution_count": null,
   "metadata": {},
   "outputs": [],
   "source": [
    "# Remove crimeless data and changing columns name \n",
    "main_crime_df = main_crime_df.loc[main_crime_df['Crime Name1'] != 'Not a Crime']\n",
    "clean_crime_df = main_crime_df.rename(columns={'Crime Name1': 'Crime Main Category',\n",
    "                                             'Crime Name2': 'Crime Sub Category',\n",
    "                                             'Start_Date_Time': 'Date & Time of Crime'})\n",
    "\n",
    "clean_crime_df['Date & Time of Crime']= pd.to_datetime(clean_crime_df['Date & Time of Crime'])\n",
    "clean_crime_df"
   ]
  },
  {
   "cell_type": "code",
   "execution_count": null,
   "metadata": {},
   "outputs": [],
   "source": [
    "# Figure out the timeline of interest\n",
    "data_first_date = clean_crime_df['Date & Time of Crime'].min()\n",
    "data_last_date = clean_crime_df['Date & Time of Crime'].max()\n",
    "\n",
    "print(data_first_date)\n",
    "print(data_last_date)\n",
    "\n",
    "# Throw away 2016 and 2020 \n",
    "clean_crime_df = clean_crime_df.loc[(clean_crime_df['Date & Time of Crime'] < '2016-01-01 00:00:00') | (clean_crime_df['Date & Time of Crime'] > '2019-12-31 23:59:00')]"
   ]
  },
  {
   "cell_type": "code",
   "execution_count": null,
   "metadata": {
    "scrolled": true
   },
   "outputs": [],
   "source": [
    "# Extra: run this to see what are the kinds of crimes in the main category\n",
    "crime_count = clean_crime_df.groupby('Crime Main Category')['Crime Sub Category'].value_counts()\n",
    "crime_count"
   ]
  },
  {
   "cell_type": "code",
   "execution_count": null,
   "metadata": {},
   "outputs": [],
   "source": []
  },
  {
   "cell_type": "code",
   "execution_count": null,
   "metadata": {},
   "outputs": [],
   "source": [
    "# Dan's code starts here - Property/Other"
   ]
  },
  {
   "cell_type": "code",
   "execution_count": null,
   "metadata": {},
   "outputs": [],
   "source": [
    "# Dan's code ends here"
   ]
  },
  {
   "cell_type": "code",
   "execution_count": null,
   "metadata": {},
   "outputs": [],
   "source": [
    "# Cynthia's code starts here - Person"
   ]
  },
  {
   "cell_type": "markdown",
   "metadata": {},
   "source": [
    "Sub-Hypothesis: We believe that as temperature decreases to a certain point during the winter, the crime against person will also decreases. This is because people are less likely to come out during the winter time when it gets too cold, making crime occur less.\n"
   ]
  },
  {
   "cell_type": "code",
   "execution_count": null,
   "metadata": {},
   "outputs": [],
   "source": []
  },
  {
   "cell_type": "code",
   "execution_count": null,
   "metadata": {},
   "outputs": [],
   "source": [
    "person_crime_df = clean_crime_df.loc[clean_crime_df['Crime Main Category'] == 'Crime Against Person', :]\n",
    "# person_crime_df['Date & Time of Crime']\n",
    "# person_crime_df['Date & Time of Crime'].dt.strftime('%m/%y')\n",
    "\n",
    "# person_crime_df['Date & Time of Crime'] =  pd.to_datetime(person_crime_df['Date & Time of Crime'], format='%d%b%Y:%H:%M:%S.%f')\n",
    "\n",
    "# How to get the months and years out...?\n",
    "# Unzip the date to spit out month and year? "
   ]
  },
  {
   "cell_type": "code",
   "execution_count": null,
   "metadata": {},
   "outputs": [],
   "source": []
  },
  {
   "cell_type": "code",
   "execution_count": null,
   "metadata": {},
   "outputs": [],
   "source": [
    "# x = person_crime_df['Date & Time of Crime']\n",
    "# y = person_crime_df['Latitude']\n",
    "# person_crime_df.plot(kind=\"scatter\", x=\"Latitude\", y=\"Date & Time of Crime\", grid=True, figsize=(8,8))\n",
    "# plt.show()"
   ]
  },
  {
   "cell_type": "code",
   "execution_count": null,
   "metadata": {},
   "outputs": [],
   "source": [
    "# Number of crimes in each city\n",
    "# person_crime_city = person_crime_df.groupby('City')['City'].count()\n",
    "# person_crime_city\n",
    "\n",
    "# person_crime_city.plot(kind='bar', title='Numbers of Crime Against Person in each City', figsize=(8,8))\n",
    "# plt.xlabel('City')\n",
    "# plt.ylabel(\"Number of Cases\")\n",
    "\n",
    "# plt.xlim(-0.75, len(person_crime_city))\n",
    "# plt.ylim(0, max(person_crime_city)+100)\n",
    "\n",
    "# plt.tight_layout()\n",
    "# plt.show()\n",
    "\n",
    "# From here, maybe do a location"
   ]
  },
  {
   "cell_type": "code",
   "execution_count": null,
   "metadata": {
    "scrolled": true
   },
   "outputs": [],
   "source": [
    "# # Look at sub category of crime\n",
    "# person_crime_stat = person_crime_df.groupby('Crime Sub Category')['Crime Sub Category'].count()\n",
    "# person_crime_stat"
   ]
  },
  {
   "cell_type": "code",
   "execution_count": null,
   "metadata": {},
   "outputs": [],
   "source": [
    "# person_crime_stat.plot(kind='bar', title='Count of Different Types of Crime Against Person')\n",
    "# plt.xlabel('Types of Crime Against Person')\n",
    "# plt.ylabel(\"Number of Cases\")\n",
    "\n",
    "# plt.xlim(-0.75, len(person_crime_stat))\n",
    "# plt.ylim(0, max(person_crime_stat)+100)\n",
    "\n",
    "# plt.show()"
   ]
  },
  {
   "cell_type": "code",
   "execution_count": null,
   "metadata": {},
   "outputs": [],
   "source": []
  },
  {
   "cell_type": "code",
   "execution_count": null,
   "metadata": {},
   "outputs": [],
   "source": [
    "# Cynthia's code ends here"
   ]
  },
  {
   "cell_type": "code",
   "execution_count": null,
   "metadata": {},
   "outputs": [],
   "source": [
    "# Rose's code starts here - Society"
   ]
  },
  {
   "cell_type": "code",
   "execution_count": null,
   "metadata": {},
   "outputs": [],
   "source": [
    "# Rose's code ends here"
   ]
  },
  {
   "cell_type": "code",
   "execution_count": null,
   "metadata": {},
   "outputs": [],
   "source": [
    "# Paul's code starts here - API!!!"
   ]
  },
  {
   "cell_type": "code",
   "execution_count": null,
   "metadata": {},
   "outputs": [],
   "source": [
    "# Paul's code ends here"
   ]
  }
 ],
 "metadata": {
  "kernelspec": {
   "display_name": "Python 3",
   "language": "python",
   "name": "python3"
  },
  "language_info": {
   "codemirror_mode": {
    "name": "ipython",
    "version": 3
   },
   "file_extension": ".py",
   "mimetype": "text/x-python",
   "name": "python",
   "nbconvert_exporter": "python",
   "pygments_lexer": "ipython3",
   "version": "3.6.10"
  }
 },
 "nbformat": 4,
 "nbformat_minor": 4
}
