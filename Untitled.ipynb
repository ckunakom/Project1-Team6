{
 "cells": [
  {
   "cell_type": "code",
   "execution_count": null,
   "metadata": {},
   "outputs": [],
   "source": [
    "combined_df = pd.merge(silverspring_clean_df, climate_df, on='Month')\n",
    "combined_df"
   ]
  },
  {
   "cell_type": "code",
   "execution_count": null,
   "metadata": {},
   "outputs": [],
   "source": []
  },
  {
   "cell_type": "code",
   "execution_count": null,
   "metadata": {},
   "outputs": [],
   "source": []
  },
  {
   "cell_type": "code",
   "execution_count": null,
   "metadata": {},
   "outputs": [],
   "source": [
    "# Cynthia's Previous code start here"
   ]
  },
  {
   "cell_type": "code",
   "execution_count": null,
   "metadata": {},
   "outputs": [],
   "source": [
    "# Generate a facet plot of all 3 figures -- TESTING -- DISCARD?\n",
    "# fig, (ax1, ax2, ax3) = plt.subplots(3, sharex=True)\n",
    "# fig.suptitle('Numbers of Crimes Against Person for each Month from 2017-2019', fontsize=10, fontweight='bold')\n",
    "\n",
    "# ax1.plot(x_2017, y_2017, linewidth=1, marker='x')\n",
    "# # ax1.set_ylabel('# in 2017')\n",
    "\n",
    "# ax2.plot(x_2018, y_2018, linewidth=1, marker='o', color='r')\n",
    "# ax2.set_ylabel('Number of Crime Incidence')\n",
    "\n",
    "# ax3.plot(x_2019, y_2019, linewidth=1, marker='o', color='g')\n",
    "# # ax3.set_ylabel('# in 2019')\n",
    "# ax3.set_xlabel(\"Month\")\n",
    "# plt.setp(ax3.xaxis.get_majorticklabels(), rotation=45)\n",
    "\n",
    "# plt.show()"
   ]
  },
  {
   "cell_type": "code",
   "execution_count": null,
   "metadata": {},
   "outputs": [],
   "source": [
    "# Merging 3 years of crime against person data with duplicate climate data \n",
    "# personcrimeclimate_df = pd.merge(personcrime_count_mmyy_df, newdup_climate_df, how='inner', on='Month')\n",
    "# personcrimeclimate_df"
   ]
  },
  {
   "cell_type": "code",
   "execution_count": null,
   "metadata": {},
   "outputs": [],
   "source": [
    "# Duplicate the temperate data from climate_df\n",
    "# dup_climate_df = climate_df\n",
    "# dup_climate_df = dup_climate_df.append([climate_df]*2)\n",
    "# newdup_climate_df = dup_climate_df.reset_index(drop=False)\n",
    "# newdup_climate_df"
   ]
  },
  {
   "cell_type": "code",
   "execution_count": null,
   "metadata": {},
   "outputs": [],
   "source": [
    "# Cynthia's Previous code ends here"
   ]
  },
  {
   "cell_type": "code",
   "execution_count": null,
   "metadata": {},
   "outputs": [],
   "source": []
  }
 ],
 "metadata": {
  "kernelspec": {
   "display_name": "Python 3",
   "language": "python",
   "name": "python3"
  },
  "language_info": {
   "codemirror_mode": {
    "name": "ipython",
    "version": 3
   },
   "file_extension": ".py",
   "mimetype": "text/x-python",
   "name": "python",
   "nbconvert_exporter": "python",
   "pygments_lexer": "ipython3",
   "version": "3.6.10"
  }
 },
 "nbformat": 4,
 "nbformat_minor": 4
}
